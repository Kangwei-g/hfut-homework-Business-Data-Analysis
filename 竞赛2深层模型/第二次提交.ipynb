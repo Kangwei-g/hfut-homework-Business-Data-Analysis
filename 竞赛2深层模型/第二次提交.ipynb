{
 "cells": [
  {
   "cell_type": "code",
   "execution_count": 1,
   "id": "f8b29232-87ac-466b-a4b4-0630a23372f9",
   "metadata": {},
   "outputs": [],
   "source": [
    "import pandas as pd\n",
    "df_a = pd.read_csv(r\"D:\\桌面\\大数据竞赛\\训练集竞赛2\\cwtz_train.csv\")\n",
    "X_numerical = df_a.iloc[:, 1:-1].values\n",
    "y = df_a.iloc[:, -1].values"
   ]
  },
  {
   "cell_type": "code",
   "execution_count": 2,
   "id": "6ccf3d49-0e88-4e15-bc87-6f2cc7e3c8ac",
   "metadata": {},
   "outputs": [
    {
     "data": {
      "text/plain": [
       "(7236, 52)"
      ]
     },
     "execution_count": 2,
     "metadata": {},
     "output_type": "execute_result"
    }
   ],
   "source": [
    "X_numerical.shape"
   ]
  },
  {
   "cell_type": "code",
   "execution_count": null,
   "id": "bd32e0a1-8752-4464-b21f-5b84aab1b9f9",
   "metadata": {},
   "outputs": [],
   "source": []
  },
  {
   "cell_type": "code",
   "execution_count": 3,
   "id": "5115b953-1b58-4599-a5bb-226af8760be5",
   "metadata": {},
   "outputs": [],
   "source": [
    "import pickle\n",
    "#encoded_df.pkl存储的是每个公司最近一条文本向量化的结果\n",
    "with open('encoded_df.pkl', 'rb') as f:\n",
    "    encoded_df = pickle.load(f)\n",
    "X_text=encoded_df['Encoded Texts']"
   ]
  },
  {
   "cell_type": "code",
   "execution_count": 4,
   "id": "a2eacc50-9778-4dd4-817a-4fdd601d5661",
   "metadata": {},
   "outputs": [
    {
     "data": {
      "text/plain": [
       "pandas.core.series.Series"
      ]
     },
     "execution_count": 4,
     "metadata": {},
     "output_type": "execute_result"
    }
   ],
   "source": [
    "type(X_text)"
   ]
  },
  {
   "cell_type": "code",
   "execution_count": 5,
   "id": "f382fcf6-9ff0-41ca-afd0-a11a0cac1d62",
   "metadata": {
    "tags": []
   },
   "outputs": [],
   "source": [
    "a = X_text.to_numpy()\n",
    "b = []\n",
    "for i in a:\n",
    "    b.append(i)\n",
    "m = pd.DataFrame(b)\n",
    "X_text=m\n",
    "X_text=X_text.values"
   ]
  },
  {
   "cell_type": "code",
   "execution_count": 6,
   "id": "275c4677-fe2d-4d8e-a599-1ca1b69faf24",
   "metadata": {},
   "outputs": [
    {
     "data": {
      "text/plain": [
       "(7236, 768)"
      ]
     },
     "execution_count": 6,
     "metadata": {},
     "output_type": "execute_result"
    }
   ],
   "source": [
    "X_text.shape"
   ]
  },
  {
   "cell_type": "code",
   "execution_count": null,
   "id": "1e84173f-15f0-41c3-9e40-c8ec09c8ca92",
   "metadata": {},
   "outputs": [],
   "source": []
  },
  {
   "cell_type": "markdown",
   "id": "c17bd661-e9fb-4e36-bd55-fb7e06b42099",
   "metadata": {},
   "source": [
    "## 选取样本数量"
   ]
  },
  {
   "cell_type": "code",
   "execution_count": 7,
   "id": "3b425da5-c45a-4f78-ba2a-f5d7c85c9027",
   "metadata": {},
   "outputs": [],
   "source": [
    "import numpy as np\n",
    "\n",
    "# 生成一组随机的行索引\n",
    "n_rows = 7236\n",
    "n_sample = 5000\n",
    "indices = np.random.choice(n_rows, size=n_sample, replace=False)\n",
    "\n",
    "# 从dada和bbb数组中获取相应的行\n",
    "X_ts = X_text[indices]\n",
    "X_ns= X_numerical[indices]\n",
    "ys = y[indices]"
   ]
  },
  {
   "cell_type": "code",
   "execution_count": 8,
   "id": "29dceca0-cd82-49a7-a340-e23ab6bfd2b2",
   "metadata": {},
   "outputs": [
    {
     "data": {
      "text/plain": [
       "(5000,)"
      ]
     },
     "execution_count": 8,
     "metadata": {},
     "output_type": "execute_result"
    }
   ],
   "source": [
    "ys.shape"
   ]
  },
  {
   "cell_type": "code",
   "execution_count": 9,
   "id": "ee9fea29-5852-43ab-8802-522e835d5f64",
   "metadata": {
    "tags": []
   },
   "outputs": [
    {
     "data": {
      "text/plain": [
       "(768,)"
      ]
     },
     "execution_count": 9,
     "metadata": {},
     "output_type": "execute_result"
    }
   ],
   "source": [
    "X_ts[0].shape"
   ]
  },
  {
   "cell_type": "code",
   "execution_count": 10,
   "id": "eee3a9b8-b1d8-404d-8ebf-a9033e041c27",
   "metadata": {},
   "outputs": [
    {
     "name": "stderr",
     "output_type": "stream",
     "text": [
      "C:\\ProgramData\\Anaconda3\\lib\\site-packages\\scipy\\__init__.py:146: UserWarning: A NumPy version >=1.16.5 and <1.23.0 is required for this version of SciPy (detected version 1.23.5\n",
      "  warnings.warn(f\"A NumPy version >={np_minversion} and <{np_maxversion}\"\n"
     ]
    }
   ],
   "source": [
    "import pandas as pd\n",
    "import numpy as np\n",
    "\n",
    "from sklearn.model_selection import train_test_split\n",
    "\n",
    "from sklearn.feature_extraction.text import CountVectorizer\n",
    "\n",
    "from sklearn.preprocessing import StandardScaler\n",
    "from sklearn.metrics import roc_auc_score\n",
    "\n",
    "import torch\n",
    "from torch.utils.data import TensorDataset, DataLoader\n",
    "from torch import nn, optim"
   ]
  },
  {
   "cell_type": "code",
   "execution_count": 11,
   "id": "0be2290f-ff4d-4cfc-95c4-f49c59e13868",
   "metadata": {},
   "outputs": [],
   "source": [
    "scaler = StandardScaler()\n",
    "X_ns = scaler.fit_transform(X_ns)\n",
    "\n",
    "# 划分训练集和测试集\n",
    "X_text_train, X_text_test, X_numerical_train, X_numerical_test, y_train, y_test = train_test_split(\n",
    "    X_ts, X_ns, ys, test_size=0.2, random_state=42)"
   ]
  },
  {
   "cell_type": "code",
   "execution_count": 12,
   "id": "cd384c51-dd7f-4fe5-9206-9e4a5e4292f4",
   "metadata": {},
   "outputs": [
    {
     "data": {
      "text/plain": [
       "numpy.ndarray"
      ]
     },
     "execution_count": 12,
     "metadata": {},
     "output_type": "execute_result"
    }
   ],
   "source": [
    "type(X_text_test)"
   ]
  },
  {
   "cell_type": "code",
   "execution_count": null,
   "id": "84157432-a2c4-49b8-9676-6990ed372f52",
   "metadata": {},
   "outputs": [],
   "source": []
  },
  {
   "cell_type": "code",
   "execution_count": 13,
   "id": "5a8f2ca4-ecf0-4d08-a099-623ee4e89dcc",
   "metadata": {
    "tags": []
   },
   "outputs": [],
   "source": [
    "# 将数据转换为PyTorch张量\n",
    "X_text_train = torch.tensor(X_text_train)\n",
    "X_text_test = torch.tensor(X_text_test)\n",
    "X_numerical_train = torch.tensor(X_numerical_train, dtype=torch.float32)\n",
    "X_numerical_test = torch.tensor(X_numerical_test, dtype=torch.float32)\n",
    "y_train = torch.tensor(y_train, dtype=torch.float32)\n",
    "y_test = torch.tensor(y_test, dtype=torch.float32)\n",
    "\n",
    "# 将数据封装成TensorDataset\n",
    "train_dataset = TensorDataset(X_text_train, X_numerical_train, y_train)\n",
    "test_dataset = TensorDataset(X_text_test, X_numerical_test, y_test)"
   ]
  },
  {
   "cell_type": "code",
   "execution_count": 14,
   "id": "b65f3cf4-6630-4f9a-9106-2f2b2009b0b0",
   "metadata": {},
   "outputs": [
    {
     "data": {
      "text/plain": [
       "torch.Size([768])"
      ]
     },
     "execution_count": 14,
     "metadata": {},
     "output_type": "execute_result"
    }
   ],
   "source": [
    "X_text_test[0].shape"
   ]
  },
  {
   "cell_type": "code",
   "execution_count": null,
   "id": "ba9ecfaa-f2b5-4f62-9a29-9124ff9e1050",
   "metadata": {},
   "outputs": [],
   "source": []
  },
  {
   "cell_type": "code",
   "execution_count": 15,
   "id": "dfdf54f0-b9eb-4a02-9434-5eacfdf8b6bb",
   "metadata": {},
   "outputs": [],
   "source": [
    "# 定义批量大小和数据加载器\n",
    "batch_size = 16\n",
    "train_dataloader = DataLoader(train_dataset, batch_size=batch_size)\n",
    "test_dataloader = DataLoader(test_dataset, batch_size=batch_size)"
   ]
  },
  {
   "cell_type": "code",
   "execution_count": 16,
   "id": "23f05956-5820-4f61-b8d5-abbb01985412",
   "metadata": {},
   "outputs": [],
   "source": [
    "# 定义模型\n",
    "class MyModel(nn.Module):\n",
    "    def __init__(self):\n",
    "        super().__init__()\n",
    "        # self.linear0 = nn.Linear(in_features=768, out_features=500)\n",
    "        self.linear1 = nn.Linear(in_features=820, out_features=500)\n",
    "        self.linear2 = nn.Linear(in_features=500, out_features=100)\n",
    "        self.linear3 = nn.Linear(in_features=100, out_features=1)\n",
    "        self.relu = nn.ReLU()\n",
    "        self.sigmoid = nn.Sigmoid()\n",
    "\n",
    "    def forward(self, text, numerical):\n",
    "        # text=  text.to(torch.float)\n",
    "        # text =  self.relu(self.linear0(text))\n",
    "        x = torch.cat([text, numerical], dim=1)\n",
    "        x=  x.to(torch.float)\n",
    "        x = self.relu(self.linear1(x))\n",
    "        x = self.relu(self.linear2(x))\n",
    "        x = self.sigmoid(self.linear3(x))\n",
    "        return x\n",
    "# 将模型移动到GPU上\n",
    "device = torch.device(\"cuda\" if torch.cuda.is_available() else \"cpu\")\n",
    "model = MyModel().to(device)\n",
    "# 定义损失函数和优化器\n",
    "criterion = nn.BCELoss()\n",
    "optimizer = optim.Adam(model.parameters())"
   ]
  },
  {
   "cell_type": "code",
   "execution_count": null,
   "id": "576097ef-091a-4837-95fd-0a677b5a16b9",
   "metadata": {},
   "outputs": [],
   "source": []
  },
  {
   "cell_type": "code",
   "execution_count": 17,
   "id": "14a63551-ea41-4cca-a876-6736a03f20f5",
   "metadata": {},
   "outputs": [
    {
     "name": "stdout",
     "output_type": "stream",
     "text": [
      "Epoch 01, Train Loss: 0.0214, Test Loss: 0.0200, Test AUC: 0.8872\n",
      "Epoch 02, Train Loss: 0.0167, Test Loss: 0.0158, Test AUC: 0.8929\n",
      "Epoch 03, Train Loss: 0.0156, Test Loss: 0.0142, Test AUC: 0.8786\n"
     ]
    }
   ],
   "source": [
    "num_epochs = 3\n",
    "train_losses = []\n",
    "test_losses = []\n",
    "test_auc_scores = []\n",
    "for epoch in range(num_epochs):\n",
    "    # 训练模型\n",
    "    train_loss = 0.0\n",
    "    model.train()\n",
    "    for i, batch in enumerate(train_dataloader):\n",
    "        text, numerical, label = batch\n",
    "        text = text.to(device)\n",
    "        numerical = numerical.to(device)\n",
    "        label = label.to(device)\n",
    "        optimizer.zero_grad()\n",
    "        output = model(text, numerical)\n",
    "        loss = criterion(output.squeeze(), label)\n",
    "        loss.backward()\n",
    "        optimizer.step()\n",
    "        train_loss += loss.item() * len(batch)\n",
    "    train_loss /= len(train_dataset)\n",
    "    train_losses.append(train_loss)\n",
    "\n",
    "    # 测试模型\n",
    "    test_loss = 0.0\n",
    "    predictions = []\n",
    "    targets = []\n",
    "    model.eval()\n",
    "    with torch.no_grad():\n",
    "        for batch in test_dataloader:\n",
    "            text, numerical, label = batch\n",
    "            text = text.to(device)\n",
    "            numerical = numerical.to(device)\n",
    "            label = label.to(device)\n",
    "            output = model(text, numerical)\n",
    "            loss = criterion(output.squeeze(), label)\n",
    "            test_loss += loss.item() * len(batch)\n",
    "            predictions.append(output.cpu().numpy())\n",
    "            targets.append(label.cpu().numpy())\n",
    "    test_loss /= len(test_dataset)\n",
    "    test_losses.append(test_loss)\n",
    "    predictions = np.concatenate(predictions)\n",
    "    targets = np.concatenate(targets)\n",
    "    test_auc_score = roc_auc_score(targets, predictions)\n",
    "    test_auc_scores.append(test_auc_score)\n",
    "\n",
    "    print(f\"Epoch {epoch + 1:02d}, \"\n",
    "          f\"Train Loss: {train_loss:.4f}, \"\n",
    "          f\"Test Loss: {test_loss:.4f}, \"\n",
    "          f\"Test AUC: {test_auc_score:.4f}\")"
   ]
  },
  {
   "cell_type": "code",
   "execution_count": 18,
   "id": "a6d19aed-223e-475b-8760-b6c988387979",
   "metadata": {},
   "outputs": [
    {
     "data": {
      "text/plain": [
       "torch.Size([8, 768])"
      ]
     },
     "execution_count": 18,
     "metadata": {},
     "output_type": "execute_result"
    }
   ],
   "source": [
    "text.shape"
   ]
  },
  {
   "cell_type": "code",
   "execution_count": 19,
   "id": "ca8c9ae0-e753-40cc-8ed9-33822a9d1d61",
   "metadata": {},
   "outputs": [
    {
     "data": {
      "text/plain": [
       "torch.Size([8, 52])"
      ]
     },
     "execution_count": 19,
     "metadata": {},
     "output_type": "execute_result"
    }
   ],
   "source": [
    "numerical.shape"
   ]
  },
  {
   "cell_type": "code",
   "execution_count": 20,
   "id": "81a70f79-8d7b-4885-9e74-27d135d401f4",
   "metadata": {},
   "outputs": [
    {
     "data": {
      "image/png": "[encoded data removed]",
      "text/plain": [
       "<Figure size 864x288 with 2 Axes>"
      ]
     },
     "metadata": {
      "needs_background": "light"
     },
     "output_type": "display_data"
    }
   ],
   "source": [
    "# 绘制 loss 和 AUC 曲线\n",
    "import matplotlib.pyplot as plt\n",
    "\n",
    "fig, ax = plt.subplots(1, 2, figsize=(12, 4))\n",
    "ax[0].plot(train_losses, label=\"Train Loss\")\n",
    "ax[0].plot(test_losses, label=\"Test Loss\")\n",
    "ax[0].set_xlabel(\"Epoch\")\n",
    "ax[0].set_ylabel(\"Loss\")\n",
    "ax[0].legend()\n",
    "ax[1].plot(test_auc_scores)\n",
    "ax[1].set_xlabel(\"Epoch\")\n",
    "ax[1].set_ylabel(\"AUC\")\n",
    "plt.show()"
   ]
  },
  {
   "cell_type": "markdown",
   "id": "9a0cc96b-e570-498d-9369-f97fe480b072",
   "metadata": {},
   "source": [
    "## 进行预测"
   ]
  },
  {
   "cell_type": "code",
   "execution_count": 21,
   "id": "09ccb600-b799-4be3-8e86-32bbcda5fe9a",
   "metadata": {
    "tags": []
   },
   "outputs": [],
   "source": [
    "with open('jianhuatest.pkl', 'rb') as f:\n",
    "    jian = pickle.load(f)\n",
    "X_test=jian[\"Encoded Texts\"]\n",
    "a = X_test\n",
    "b = []\n",
    "for i in a:\n",
    "    b.append(i)\n",
    "m = pd.DataFrame(b)\n",
    "X_text=m\n",
    "X_text=np.array(X_text.values)"
   ]
  },
  {
   "cell_type": "code",
   "execution_count": 23,
   "id": "bf7e041b-26c7-405c-9718-f1ca55889da4",
   "metadata": {
    "tags": []
   },
   "outputs": [],
   "source": [
    "df_test= pd.read_csv(r\"D:\\桌面\\大数据竞赛\\cwtz_test.csv\")\n",
    "# 将文本特征和数字特征分离\n",
    "X_numerical_test = df_test.iloc[:, 1:].values"
   ]
  },
  {
   "cell_type": "code",
   "execution_count": 24,
   "id": "f57cb65f-9c5a-466a-a94d-4d9e9301f2db",
   "metadata": {},
   "outputs": [
    {
     "name": "stdout",
     "output_type": "stream",
     "text": [
      "<class 'numpy.ndarray'> (804, 52)\n",
      "<class 'numpy.ndarray'> (804, 768)\n"
     ]
    }
   ],
   "source": [
    "print(type(X_numerical_test),X_numerical_test.shape)\n",
    "print(type(X_text),X_text.shape)"
   ]
  },
  {
   "cell_type": "code",
   "execution_count": 25,
   "id": "f99a5cfa-fd57-4d67-92a8-5c3c60ad89b6",
   "metadata": {
    "tags": []
   },
   "outputs": [],
   "source": [
    "# 对数字特征进行标准化处理\n",
    "scaler = StandardScaler()\n",
    "X_numerical_test = scaler.fit_transform(X_numerical_test)"
   ]
  },
  {
   "cell_type": "code",
   "execution_count": 26,
   "id": "03f1dbe2-a135-40e4-96dc-2c4bc6f68b6e",
   "metadata": {},
   "outputs": [],
   "source": [
    "# # 将预处理后的数据转换为PyTorch张量\n",
    "X_text_test = torch.tensor(X_text)\n",
    "X_numerical_test = torch.tensor(X_numerical_test, dtype=torch.float32)\n",
    "\n",
    "# # 将数据封装成TensorDataset\n",
    "test_dataset = TensorDataset(X_text_test, X_numerical_test)\n",
    "\n",
    "# 定义批量大小和数据加载器\n",
    "batch_size = 32\n",
    "test_dataloader = DataLoader(test_dataset, batch_size=batch_size)\n",
    "\n",
    "# 使用训练好的模型进行预测\n",
    "predictions = []\n",
    "model.eval()  # 切换为评估模式\n",
    "with torch.no_grad():  # 禁用梯度计算，加速推理过程\n",
    "    for batch in test_dataloader:\n",
    "        text, numerical = batch\n",
    "        text = text.to(device)\n",
    "        numerical = numerical.to(device)\n",
    "        output = model(text, numerical)\n",
    "        predictions.extend(output.cpu().numpy().tolist())"
   ]
  },
  {
   "cell_type": "code",
   "execution_count": 27,
   "id": "c1bcc094-4a49-47e6-aa41-137c986f884d",
   "metadata": {},
   "outputs": [],
   "source": [
    "# 输出预测结果\n",
    "jieguo=[]\n",
    "jieguo=[x[0] for x in predictions ]\n",
    "df_test['预测结果'] = jieguo\n",
    "df_test.to_excel(r\"D:\\桌面\\竞赛二结果第二次.xlsx\", index=False)"
   ]
  },
  {
   "cell_type": "code",
   "execution_count": 28,
   "id": "80bc7abc-64ae-46d7-b6f3-bd8f23c5dd61",
   "metadata": {},
   "outputs": [
    {
     "data": {
      "text/plain": [
       "804"
      ]
     },
     "execution_count": 28,
     "metadata": {},
     "output_type": "execute_result"
    }
   ],
   "source": [
    "len(predictions)"
   ]
  },
  {
   "cell_type": "code",
   "execution_count": 30,
   "id": "e44ec954-b86c-49bd-92e2-bf02203283cc",
   "metadata": {},
   "outputs": [],
   "source": [
    "#88%结果\n",
    "# import matplotlib.pyplot as plt\n",
    "# plt.plot(jieguo)"
   ]
  },
  {
   "cell_type": "code",
   "execution_count": 31,
   "id": "394e2a99-b6b4-4dc5-87c3-3a1301350ea2",
   "metadata": {},
   "outputs": [
    {
     "data": {
      "text/plain": [
       "[<matplotlib.lines.Line2D at 0x18b228ce580>]"
      ]
     },
     "execution_count": 31,
     "metadata": {},
     "output_type": "execute_result"
    },
    {
     "data": {
      "image/png": "[encoded data removed]",
      "text/plain": [
       "<Figure size 432x288 with 1 Axes>"
      ]
     },
     "metadata": {
      "needs_background": "light"
     },
     "output_type": "display_data"
    }
   ],
   "source": [
    "#92%结果\n",
    "import matplotlib.pyplot as plt\n",
    "plt.plot(jieguo)"
   ]
  },
  {
   "cell_type": "code",
   "execution_count": 32,
   "id": "4adc8305-3b05-4e67-bd51-6fe9ef5fa9a9",
   "metadata": {},
   "outputs": [
    {
     "name": "stdout",
     "output_type": "stream",
     "text": [
      "12\n"
     ]
    }
   ],
   "source": [
    "print(sum(np.array(jieguo)>0.5))"
   ]
  }
 ],
 "metadata": {
  "kernelspec": {
   "display_name": "Python 3 (ipykernel)",
   "language": "python",
   "name": "python3"
  },
  "language_info": {
   "codemirror_mode": {
    "name": "ipython",
    "version": 3
   },
   "file_extension": ".py",
   "mimetype": "text/x-python",
   "name": "python",
   "nbconvert_exporter": "python",
   "pygments_lexer": "ipython3",
   "version": "3.9.12"
  }
 },
 "nbformat": 4,
 "nbformat_minor": 5
}
