{
 "cells": [
  {
   "cell_type": "markdown",
   "id": "c5c515b9-9784-4f87-9967-71796c0f1116",
   "metadata": {},
   "source": [
    "## 读取trainall,获取文本编码"
   ]
  },
  {
   "cell_type": "code",
   "execution_count": 1,
   "id": "f3d42bbb-4f75-4992-9876-7d307924d418",
   "metadata": {},
   "outputs": [
    {
     "name": "stderr",
     "output_type": "stream",
     "text": [
      "C:\\ProgramData\\Anaconda3\\lib\\site-packages\\scipy\\__init__.py:146: UserWarning: A NumPy version >=1.16.5 and <1.23.0 is required for this version of SciPy (detected version 1.23.5\n",
      "  warnings.warn(f\"A NumPy version >={np_minversion} and <{np_maxversion}\"\n"
     ]
    }
   ],
   "source": [
    "from sklearn.model_selection import train_test_split\n",
    "from sklearn.feature_extraction.text import CountVectorizer\n",
    "from sklearn.preprocessing import StandardScaler\n",
    "from sklearn.metrics import roc_auc_score\n",
    "import numpy as np\n",
    "import pandas as pd\n",
    "import pickle\n",
    "import torch\n",
    "from torch.utils.data import TensorDataset, DataLoader\n",
    "from torch import nn, optim"
   ]
  },
  {
   "cell_type": "code",
   "execution_count": 2,
   "id": "a76f99b6-7ece-4357-9901-add417de34c5",
   "metadata": {},
   "outputs": [
    {
     "name": "stdout",
     "output_type": "stream",
     "text": [
      "   Company Number                                Encoded Texts Array\n",
      "0               0  [[0.26694655, 0.9597109, -0.80210227, -0.28551...\n",
      "1               1  [[-0.95734376, 0.21193711, -1.3041018, -0.5629...\n",
      "2               2  [[-0.92577845, 0.2726554, -1.2605135, -0.48989...\n",
      "3               3  [[-0.63378906, 0.4488125, -0.8418375, 0.004676...\n",
      "4               4  [[0.09655304, 0.2915736, -0.012331143, 0.01824...\n"
     ]
    }
   ],
   "source": [
    "with open('Trainall.pkl', 'rb') as f:\n",
    "    encoded_df = pickle.load(f)\n",
    "df=encoded_df\n",
    "\n",
    "grouped = df.groupby('Company Number')\n",
    "\n",
    "# 定义一个函数，用于对每个组进行处理\n",
    "def process_group(group):\n",
    "    # 提取“Encoded Texts”列的值，并将其放入一个列表中\n",
    "    texts = group['Encoded Texts'].values.tolist()\n",
    "    # 如果列表的长度超过changdu，则将其截断为长度为changdu的列表。\n",
    "    changdu = 10\n",
    "    if len(texts) > changdu:\n",
    "        texts = texts[:changdu]\n",
    "    # 如果长度不足30，则使用前一个向量进行填充，直到列表长度为30。\n",
    "    elif len(texts) < changdu:\n",
    "        padding = [texts[-1] for _ in range(changdu - len(texts))]\n",
    "        texts = padding + texts\n",
    "\n",
    "    # 将每个公司的30个Encoded Texts列表反转。\n",
    "    texts = np.array(texts[::-1])\n",
    "\n",
    "    # 返回处理后的结果\n",
    "    return texts\n",
    "\n",
    "# 对每个分组应用process_group函数，并将结果合并为一个新的DataFrame\n",
    "new_df = pd.DataFrame({'Company Number': grouped.groups.keys(), 'Encoded Texts Array': grouped.apply(process_group).values})\n",
    "\n",
    "# 查看结果\n",
    "print(new_df.head())"
   ]
  },
  {
   "cell_type": "code",
   "execution_count": 3,
   "id": "0a7a287f-e12e-4cbf-a0c0-b96ff3aa02bb",
   "metadata": {},
   "outputs": [
    {
     "name": "stdout",
     "output_type": "stream",
     "text": [
      "(10, 768)\n",
      "270331\n",
      "7236\n"
     ]
    }
   ],
   "source": [
    "print(np.array(new_df[\"Encoded Texts Array\"][0]).shape)  #每个公司对应文本的向量化\n",
    "print(len(encoded_df))  #编码评论数\n",
    "print(len(new_df))  #公司数目"
   ]
  },
  {
   "cell_type": "code",
   "execution_count": null,
   "id": "026a606a-63ed-487a-9c46-02eb3b25fd74",
   "metadata": {},
   "outputs": [],
   "source": []
  },
  {
   "cell_type": "code",
   "execution_count": 4,
   "id": "091ee4f3-0646-4726-a40a-f0c432f7a454",
   "metadata": {},
   "outputs": [],
   "source": [
    "X_te=np.array(new_df[\"Encoded Texts Array\"])\n",
    "X_te_tensors = [torch.from_numpy(x) for x in X_te]\n",
    "X_te_tensor = torch.stack(X_te_tensors, dim=0)"
   ]
  },
  {
   "cell_type": "code",
   "execution_count": 5,
   "id": "bfca7292-02f9-4a5b-bf19-c29bccde69e6",
   "metadata": {},
   "outputs": [
    {
     "name": "stdout",
     "output_type": "stream",
     "text": [
      "torch.Size([7236, 10, 768])\n"
     ]
    }
   ],
   "source": [
    "print(X_te_tensor.shape)"
   ]
  },
  {
   "cell_type": "code",
   "execution_count": null,
   "id": "88add9e3-36c3-4146-be4a-cdcc77666846",
   "metadata": {},
   "outputs": [],
   "source": []
  },
  {
   "cell_type": "markdown",
   "id": "a59a695f-cfc0-4432-9589-5bd0cd8e0a58",
   "metadata": {},
   "source": [
    "## 读取公司特征数据"
   ]
  },
  {
   "cell_type": "code",
   "execution_count": 6,
   "id": "be152c15-c94e-419f-8141-daa9c6aa5a33",
   "metadata": {},
   "outputs": [],
   "source": [
    "df_a = pd.read_csv(r\"D:\\桌面\\大数据竞赛\\训练集竞赛2\\cwtz_train.csv\")\n",
    "X_numerical = df_a.iloc[:, 1:-1].values\n",
    "y = df_a.iloc[:, -1].values"
   ]
  },
  {
   "cell_type": "code",
   "execution_count": 7,
   "id": "64199994-272e-4be7-a016-95245ebd410c",
   "metadata": {},
   "outputs": [
    {
     "name": "stdout",
     "output_type": "stream",
     "text": [
      "(7236, 52)\n",
      "(7236,)\n"
     ]
    }
   ],
   "source": [
    "print(X_numerical.shape)\n",
    "print(y.shape)"
   ]
  },
  {
   "cell_type": "markdown",
   "id": "7233ad96-c80b-4ab5-b5b3-5ade94049b61",
   "metadata": {},
   "source": [
    "## 选取样本准备训练"
   ]
  },
  {
   "cell_type": "code",
   "execution_count": 8,
   "id": "67ec0d7d-3dc8-40ab-993e-52938e007f31",
   "metadata": {},
   "outputs": [],
   "source": [
    "scaler = StandardScaler()\n",
    "X_numerical= scaler.fit_transform(X_numerical)"
   ]
  },
  {
   "cell_type": "code",
   "execution_count": 9,
   "id": "d0ce8552-9812-4d42-9be2-796e2b6415a8",
   "metadata": {},
   "outputs": [],
   "source": [
    "# 划分训练集和测试集\n",
    "X_text_train, X_text_test, X_numerical_train, X_numerical_test, y_train, y_test = train_test_split(\n",
    "    X_te_tensor, X_numerical, y, test_size=0.2, random_state=0)"
   ]
  },
  {
   "cell_type": "code",
   "execution_count": 10,
   "id": "c4a7d208-5b6c-4f9e-b1f9-8ded793b7b8c",
   "metadata": {},
   "outputs": [],
   "source": [
    "# 将数据转换为PyTorch张量\n",
    "#X_text_train = torch.tensor(X_text_train)\n",
    "#X_text_test = torch.tensor(X_text_test)\n",
    "X_numerical_train = torch.tensor(X_numerical_train, dtype=torch.float32)\n",
    "X_numerical_test = torch.tensor(X_numerical_test, dtype=torch.float32)\n",
    "y_train = torch.tensor(y_train, dtype=torch.float32)\n",
    "y_test = torch.tensor(y_test, dtype=torch.float32)\n",
    "\n",
    "# 将数据封装成TensorDataset\n",
    "train_dataset = TensorDataset(X_text_train, X_numerical_train, y_train)\n",
    "test_dataset = TensorDataset(X_text_test, X_numerical_test, y_test)"
   ]
  },
  {
   "cell_type": "code",
   "execution_count": 11,
   "id": "d53594c0-f7f7-4e2a-a932-78b1fed8d899",
   "metadata": {},
   "outputs": [],
   "source": [
    "# 定义批量大小和数据加载器\n",
    "batch_size = 16\n",
    "train_dataloader = DataLoader(train_dataset, batch_size=batch_size)\n",
    "test_dataloader = DataLoader(test_dataset, batch_size=batch_size)"
   ]
  },
  {
   "cell_type": "code",
   "execution_count": null,
   "id": "35b90729-06c4-4d85-a794-7653ddbe91a3",
   "metadata": {},
   "outputs": [],
   "source": []
  },
  {
   "cell_type": "code",
   "execution_count": 12,
   "id": "c9a1c888-38ca-4970-9e24-ab4f92cdaf33",
   "metadata": {},
   "outputs": [],
   "source": [
    "import torch\n",
    "import torch.nn as nn\n",
    "import torch.optim as optim\n",
    "from torch.utils.data import Dataset, DataLoader\n",
    "from sklearn.model_selection import train_test_split\n",
    "import torch.nn as nn\n",
    "from torch.nn import TransformerEncoder, TransformerEncoderLayer"
   ]
  },
  {
   "cell_type": "code",
   "execution_count": 13,
   "id": "cdf76167-e0e3-4de4-9d93-6a0841762afd",
   "metadata": {},
   "outputs": [],
   "source": [
    "# 定义模型\n",
    "class MyModel(nn.Module):\n",
    "    def __init__(self):\n",
    "        super().__init__()\n",
    "        # self.embedding_matrix = nn.Parameter(torch.randn(64, 1))\n",
    "        #self.text_embedding = nn.Embedding(num_embeddings=116, embedding_dim=100)\n",
    "        self.text_rnn = nn.LSTM(input_size=768, hidden_size=52, batch_first=True)\n",
    "        self.linear0 = nn.Linear(in_features=768*2, out_features=52)\n",
    "        self.linear1 = nn.Linear(in_features=52+52, out_features=500)\n",
    "        self.linear2 = nn.Linear(in_features=500, out_features=100)\n",
    "        self.linear3 = nn.Linear(in_features=100, out_features=1)\n",
    "        self.relu = nn.ReLU()\n",
    "        self.sigmoid = nn.Sigmoid()\n",
    "\n",
    "    def forward(self, text, numerical):\n",
    "        # text=text.to(torch.float)\n",
    "        # text=self.relu(self.linear0(text))\n",
    "        # numerical = numerical.to(torch.float)\n",
    "        # text=text.to(torch.float)\n",
    "        text,_=self.text_rnn(text)\n",
    "        text = text[:,-1,:]\n",
    "        # text=torch.cat([text[:,-1,:],text[:,-2,:]],dim=1)\n",
    "        # text=self.relu(self.linear0(text))\n",
    "        x = torch.cat([text, numerical], dim=1)\n",
    "        x=x.to(torch.float)\n",
    "        x = self.relu(self.linear1(x))\n",
    "        x = self.relu(self.linear2(x))\n",
    "        x = self.sigmoid(self.linear3(x))\n",
    "        return x\n",
    "# 将模型移动到GPU上\n",
    "device = torch.device(\"cuda\" if torch.cuda.is_available() else \"cpu\")\n",
    "model = MyModel().to(device)\n",
    "# 定义损失函数和优化器\n",
    "criterion = nn.BCELoss()\n",
    "optimizer = optim.Adam(model.parameters())"
   ]
  },
  {
   "cell_type": "code",
   "execution_count": 14,
   "id": "99718dc9-c81f-41bf-9b58-12b3a8252e29",
   "metadata": {},
   "outputs": [
    {
     "name": "stdout",
     "output_type": "stream",
     "text": [
      "Epoch 01, Train Loss: 0.0190, Test Loss: 0.0101, Test AUC: 0.8126\n",
      "Epoch 02, Train Loss: 0.0145, Test Loss: 0.0108, Test AUC: 0.8139\n",
      "Epoch 03, Train Loss: 0.0140, Test Loss: 0.0109, Test AUC: 0.8158\n"
     ]
    }
   ],
   "source": [
    "# 训练模型\n",
    "num_epochs = 3\n",
    "\n",
    "train_losses = []\n",
    "test_losses = []\n",
    "test_auc_scores = []\n",
    "for epoch in range(num_epochs):\n",
    "    # 训练模型\n",
    "    train_loss = 0.0\n",
    "    model.train()\n",
    "    for i, batch in enumerate(train_dataloader):\n",
    "        text, numerical, label = batch\n",
    "        text = text.to(device)\n",
    "        numerical = numerical.to(device)\n",
    "        label = label.to(device)\n",
    "        optimizer.zero_grad()\n",
    "        output = model(text, numerical)\n",
    "        loss = criterion(output.squeeze(), label)\n",
    "        loss.backward()\n",
    "        optimizer.step()\n",
    "        train_loss += loss.item() * len(batch)\n",
    "    train_loss /= len(train_dataset)\n",
    "    train_losses.append(train_loss)\n",
    "\n",
    "    # 测试模型\n",
    "    test_loss = 0.0\n",
    "    predictions = []\n",
    "    targets = []\n",
    "    model.eval()\n",
    "    with torch.no_grad():\n",
    "        for batch in test_dataloader:\n",
    "            text, numerical, label = batch\n",
    "            text = text.to(device)\n",
    "            numerical = numerical.to(device)\n",
    "            label = label.to(device)\n",
    "            output = model(text, numerical)\n",
    "            loss = criterion(output.squeeze(), label)\n",
    "            test_loss += loss.item() * len(batch)\n",
    "            predictions.append(output.cpu().numpy())\n",
    "            targets.append(label.cpu().numpy())\n",
    "    test_loss /= len(test_dataset)\n",
    "    test_losses.append(test_loss)\n",
    "    predictions = np.concatenate(predictions)\n",
    "    targets = np.concatenate(targets)\n",
    "    test_auc_score = roc_auc_score(targets, predictions)\n",
    "    test_auc_scores.append(test_auc_score)\n",
    "\n",
    "    print(f\"Epoch {epoch + 1:02d}, \"\n",
    "          f\"Train Loss: {train_loss:.4f}, \"\n",
    "          f\"Test Loss: {test_loss:.4f}, \"\n",
    "          f\"Test AUC: {test_auc_score:.4f}\")"
   ]
  },
  {
   "cell_type": "code",
   "execution_count": 15,
   "id": "aab6ee4f-3a60-407e-b258-9d2b2c4bc3d5",
   "metadata": {},
   "outputs": [
    {
     "data": {
      "image/png": "[encoded data removed]",
      "text/plain": [
       "<Figure size 864x288 with 2 Axes>"
      ]
     },
     "metadata": {
      "needs_background": "light"
     },
     "output_type": "display_data"
    }
   ],
   "source": [
    "# 绘制 loss 和 AUC 曲线\n",
    "import matplotlib.pyplot as plt\n",
    "\n",
    "fig, ax = plt.subplots(1, 2, figsize=(12, 4))\n",
    "ax[0].plot(train_losses, label=\"Train Loss\")\n",
    "ax[0].plot(test_losses, label=\"Test Loss\")\n",
    "ax[0].set_xlabel(\"Epoch\")\n",
    "ax[0].set_ylabel(\"Loss\")\n",
    "ax[0].legend()\n",
    "ax[1].plot(test_auc_scores)\n",
    "ax[1].set_xlabel(\"Epoch\")\n",
    "ax[1].set_ylabel(\"AUC\")\n",
    "plt.show()"
   ]
  },
  {
   "cell_type": "code",
   "execution_count": 16,
   "id": "cee0d024-35c9-41fe-a7d7-a9be669f8301",
   "metadata": {},
   "outputs": [
    {
     "name": "stdout",
     "output_type": "stream",
     "text": [
      "   Company Number                                Encoded Texts Array\n",
      "0              12  [[-0.4314325, 0.70720446, -0.9864973, -0.29588...\n",
      "1              13  [[-0.23587735, 0.8444132, -0.8237666, -0.05725...\n",
      "2              14  [[-0.60591453, 0.4509466, -1.0440749, -0.27577...\n",
      "3              19  [[-0.09272678, 0.99364465, -0.56586164, 0.4142...\n",
      "4              23  [[0.16473942, 0.22861679, -0.65105367, 0.03080...\n"
     ]
    }
   ],
   "source": [
    "with open('Testall.pkl', 'rb') as f:\n",
    "    encoded_df = pickle.load(f)\n",
    "df = encoded_df\n",
    "\n",
    "grouped = df.groupby('Company Number')\n",
    "\n",
    "# 定义一个函数，用于对每个组进行处理\n",
    "def process_group(group):\n",
    "    # 提取“Encoded Texts”列的值，并将其放入一个列表中\n",
    "    texts = group['Encoded Texts'].values.tolist()\n",
    "    # 如果列表的长度超过30，则将其截断为长度为30的列表。\n",
    "    changdu = 10\n",
    "    if len(texts) > changdu:\n",
    "        texts = texts[:changdu]\n",
    "    # 如果长度不足30，则使用前一个向量进行填充，直到列表长度为30。\n",
    "    elif len(texts) < changdu:\n",
    "        padding = [texts[-1] for _ in range(changdu - len(texts))]\n",
    "        texts = padding + texts\n",
    "\n",
    "    # 将每个公司的30个Encoded Texts列表反转。\n",
    "    texts = np.array(texts[::-1])\n",
    "\n",
    "    # 返回处理后的结果\n",
    "    return texts\n",
    "\n",
    "# 对每个分组应用process_group函数，并将结果合并为一个新的DataFrame\n",
    "new_df = pd.DataFrame({'Company Number': grouped.groups.keys(), 'Encoded Texts Array': grouped.apply(process_group).values})\n",
    "\n",
    "# 查看结果\n",
    "print(new_df.head())"
   ]
  },
  {
   "cell_type": "code",
   "execution_count": 17,
   "id": "2b8ed24b-ac4b-421d-86cd-ab71a8fcf6ca",
   "metadata": {},
   "outputs": [],
   "source": [
    "X_te=np.array(new_df[\"Encoded Texts Array\"])\n",
    "X_te_tensors = [torch.from_numpy(x) for x in X_te]\n",
    "X_te_tensor = torch.stack(X_te_tensors, dim=0)"
   ]
  },
  {
   "cell_type": "code",
   "execution_count": 18,
   "id": "84c8fc38-accb-43a5-899b-8434a33701ae",
   "metadata": {},
   "outputs": [
    {
     "ename": "FileNotFoundError",
     "evalue": "[Errno 2] No such file or directory: 'D:\\\\桌面\\\\cwtz_test.csv'",
     "output_type": "error",
     "traceback": [
      "\u001b[1;31m---------------------------------------------------------------------------\u001b[0m",
      "\u001b[1;31mFileNotFoundError\u001b[0m                         Traceback (most recent call last)",
      "Input \u001b[1;32mIn [18]\u001b[0m, in \u001b[0;36m<cell line: 1>\u001b[1;34m()\u001b[0m\n\u001b[1;32m----> 1\u001b[0m df_test\u001b[38;5;241m=\u001b[39m \u001b[43mpd\u001b[49m\u001b[38;5;241;43m.\u001b[39;49m\u001b[43mread_csv\u001b[49m\u001b[43m(\u001b[49m\u001b[38;5;124;43mr\u001b[39;49m\u001b[38;5;124;43m\"\u001b[39;49m\u001b[38;5;124;43mD:\u001b[39;49m\u001b[38;5;124;43m\\\u001b[39;49m\u001b[38;5;124;43m桌面\u001b[39;49m\u001b[38;5;124;43m\\\u001b[39;49m\u001b[38;5;124;43mcwtz_test.csv\u001b[39;49m\u001b[38;5;124;43m\"\u001b[39;49m\u001b[43m)\u001b[49m\n\u001b[0;32m      2\u001b[0m \u001b[38;5;66;03m# 将文本特征和数字特征分离\u001b[39;00m\n\u001b[0;32m      3\u001b[0m X_numerical_test \u001b[38;5;241m=\u001b[39m df_test\u001b[38;5;241m.\u001b[39miloc[:, \u001b[38;5;241m1\u001b[39m:]\u001b[38;5;241m.\u001b[39mvalues\n",
      "File \u001b[1;32m~\\AppData\\Roaming\\Python\\Python39\\site-packages\\pandas\\io\\parsers.py:610\u001b[0m, in \u001b[0;36mread_csv\u001b[1;34m(filepath_or_buffer, sep, delimiter, header, names, index_col, usecols, squeeze, prefix, mangle_dupe_cols, dtype, engine, converters, true_values, false_values, skipinitialspace, skiprows, skipfooter, nrows, na_values, keep_default_na, na_filter, verbose, skip_blank_lines, parse_dates, infer_datetime_format, keep_date_col, date_parser, dayfirst, cache_dates, iterator, chunksize, compression, thousands, decimal, lineterminator, quotechar, quoting, doublequote, escapechar, comment, encoding, dialect, error_bad_lines, warn_bad_lines, delim_whitespace, low_memory, memory_map, float_precision, storage_options)\u001b[0m\n\u001b[0;32m    605\u001b[0m kwds_defaults \u001b[38;5;241m=\u001b[39m _refine_defaults_read(\n\u001b[0;32m    606\u001b[0m     dialect, delimiter, delim_whitespace, engine, sep, defaults\u001b[38;5;241m=\u001b[39m{\u001b[38;5;124m\"\u001b[39m\u001b[38;5;124mdelimiter\u001b[39m\u001b[38;5;124m\"\u001b[39m: \u001b[38;5;124m\"\u001b[39m\u001b[38;5;124m,\u001b[39m\u001b[38;5;124m\"\u001b[39m}\n\u001b[0;32m    607\u001b[0m )\n\u001b[0;32m    608\u001b[0m kwds\u001b[38;5;241m.\u001b[39mupdate(kwds_defaults)\n\u001b[1;32m--> 610\u001b[0m \u001b[38;5;28;01mreturn\u001b[39;00m \u001b[43m_read\u001b[49m\u001b[43m(\u001b[49m\u001b[43mfilepath_or_buffer\u001b[49m\u001b[43m,\u001b[49m\u001b[43m \u001b[49m\u001b[43mkwds\u001b[49m\u001b[43m)\u001b[49m\n",
      "File \u001b[1;32m~\\AppData\\Roaming\\Python\\Python39\\site-packages\\pandas\\io\\parsers.py:462\u001b[0m, in \u001b[0;36m_read\u001b[1;34m(filepath_or_buffer, kwds)\u001b[0m\n\u001b[0;32m    459\u001b[0m _validate_names(kwds\u001b[38;5;241m.\u001b[39mget(\u001b[38;5;124m\"\u001b[39m\u001b[38;5;124mnames\u001b[39m\u001b[38;5;124m\"\u001b[39m, \u001b[38;5;28;01mNone\u001b[39;00m))\n\u001b[0;32m    461\u001b[0m \u001b[38;5;66;03m# Create the parser.\u001b[39;00m\n\u001b[1;32m--> 462\u001b[0m parser \u001b[38;5;241m=\u001b[39m TextFileReader(filepath_or_buffer, \u001b[38;5;241m*\u001b[39m\u001b[38;5;241m*\u001b[39mkwds)\n\u001b[0;32m    464\u001b[0m \u001b[38;5;28;01mif\u001b[39;00m chunksize \u001b[38;5;129;01mor\u001b[39;00m iterator:\n\u001b[0;32m    465\u001b[0m     \u001b[38;5;28;01mreturn\u001b[39;00m parser\n",
      "File \u001b[1;32m~\\AppData\\Roaming\\Python\\Python39\\site-packages\\pandas\\io\\parsers.py:819\u001b[0m, in \u001b[0;36mTextFileReader.__init__\u001b[1;34m(self, f, engine, **kwds)\u001b[0m\n\u001b[0;32m    816\u001b[0m \u001b[38;5;28;01mif\u001b[39;00m \u001b[38;5;124m\"\u001b[39m\u001b[38;5;124mhas_index_names\u001b[39m\u001b[38;5;124m\"\u001b[39m \u001b[38;5;129;01min\u001b[39;00m kwds:\n\u001b[0;32m    817\u001b[0m     \u001b[38;5;28mself\u001b[39m\u001b[38;5;241m.\u001b[39moptions[\u001b[38;5;124m\"\u001b[39m\u001b[38;5;124mhas_index_names\u001b[39m\u001b[38;5;124m\"\u001b[39m] \u001b[38;5;241m=\u001b[39m kwds[\u001b[38;5;124m\"\u001b[39m\u001b[38;5;124mhas_index_names\u001b[39m\u001b[38;5;124m\"\u001b[39m]\n\u001b[1;32m--> 819\u001b[0m \u001b[38;5;28mself\u001b[39m\u001b[38;5;241m.\u001b[39m_engine \u001b[38;5;241m=\u001b[39m \u001b[38;5;28;43mself\u001b[39;49m\u001b[38;5;241;43m.\u001b[39;49m\u001b[43m_make_engine\u001b[49m\u001b[43m(\u001b[49m\u001b[38;5;28;43mself\u001b[39;49m\u001b[38;5;241;43m.\u001b[39;49m\u001b[43mengine\u001b[49m\u001b[43m)\u001b[49m\n",
      "File \u001b[1;32m~\\AppData\\Roaming\\Python\\Python39\\site-packages\\pandas\\io\\parsers.py:1050\u001b[0m, in \u001b[0;36mTextFileReader._make_engine\u001b[1;34m(self, engine)\u001b[0m\n\u001b[0;32m   1046\u001b[0m     \u001b[38;5;28;01mraise\u001b[39;00m \u001b[38;5;167;01mValueError\u001b[39;00m(\n\u001b[0;32m   1047\u001b[0m         \u001b[38;5;124mf\u001b[39m\u001b[38;5;124m\"\u001b[39m\u001b[38;5;124mUnknown engine: \u001b[39m\u001b[38;5;132;01m{\u001b[39;00mengine\u001b[38;5;132;01m}\u001b[39;00m\u001b[38;5;124m (valid options are \u001b[39m\u001b[38;5;132;01m{\u001b[39;00mmapping\u001b[38;5;241m.\u001b[39mkeys()\u001b[38;5;132;01m}\u001b[39;00m\u001b[38;5;124m)\u001b[39m\u001b[38;5;124m\"\u001b[39m\n\u001b[0;32m   1048\u001b[0m     )\n\u001b[0;32m   1049\u001b[0m \u001b[38;5;66;03m# error: Too many arguments for \"ParserBase\"\u001b[39;00m\n\u001b[1;32m-> 1050\u001b[0m \u001b[38;5;28;01mreturn\u001b[39;00m mapping[engine](\u001b[38;5;28mself\u001b[39m\u001b[38;5;241m.\u001b[39mf, \u001b[38;5;241m*\u001b[39m\u001b[38;5;241m*\u001b[39m\u001b[38;5;28mself\u001b[39m\u001b[38;5;241m.\u001b[39moptions)\n",
      "File \u001b[1;32m~\\AppData\\Roaming\\Python\\Python39\\site-packages\\pandas\\io\\parsers.py:1867\u001b[0m, in \u001b[0;36mCParserWrapper.__init__\u001b[1;34m(self, src, **kwds)\u001b[0m\n\u001b[0;32m   1864\u001b[0m kwds[\u001b[38;5;124m\"\u001b[39m\u001b[38;5;124musecols\u001b[39m\u001b[38;5;124m\"\u001b[39m] \u001b[38;5;241m=\u001b[39m \u001b[38;5;28mself\u001b[39m\u001b[38;5;241m.\u001b[39musecols\n\u001b[0;32m   1866\u001b[0m \u001b[38;5;66;03m# open handles\u001b[39;00m\n\u001b[1;32m-> 1867\u001b[0m \u001b[38;5;28;43mself\u001b[39;49m\u001b[38;5;241;43m.\u001b[39;49m\u001b[43m_open_handles\u001b[49m\u001b[43m(\u001b[49m\u001b[43msrc\u001b[49m\u001b[43m,\u001b[49m\u001b[43m \u001b[49m\u001b[43mkwds\u001b[49m\u001b[43m)\u001b[49m\n\u001b[0;32m   1868\u001b[0m \u001b[38;5;28;01massert\u001b[39;00m \u001b[38;5;28mself\u001b[39m\u001b[38;5;241m.\u001b[39mhandles \u001b[38;5;129;01mis\u001b[39;00m \u001b[38;5;129;01mnot\u001b[39;00m \u001b[38;5;28;01mNone\u001b[39;00m\n\u001b[0;32m   1869\u001b[0m \u001b[38;5;28;01mfor\u001b[39;00m key \u001b[38;5;129;01min\u001b[39;00m (\u001b[38;5;124m\"\u001b[39m\u001b[38;5;124mstorage_options\u001b[39m\u001b[38;5;124m\"\u001b[39m, \u001b[38;5;124m\"\u001b[39m\u001b[38;5;124mencoding\u001b[39m\u001b[38;5;124m\"\u001b[39m, \u001b[38;5;124m\"\u001b[39m\u001b[38;5;124mmemory_map\u001b[39m\u001b[38;5;124m\"\u001b[39m, \u001b[38;5;124m\"\u001b[39m\u001b[38;5;124mcompression\u001b[39m\u001b[38;5;124m\"\u001b[39m):\n",
      "File \u001b[1;32m~\\AppData\\Roaming\\Python\\Python39\\site-packages\\pandas\\io\\parsers.py:1362\u001b[0m, in \u001b[0;36mParserBase._open_handles\u001b[1;34m(self, src, kwds)\u001b[0m\n\u001b[0;32m   1358\u001b[0m \u001b[38;5;28;01mdef\u001b[39;00m \u001b[38;5;21m_open_handles\u001b[39m(\u001b[38;5;28mself\u001b[39m, src: FilePathOrBuffer, kwds: Dict[\u001b[38;5;28mstr\u001b[39m, Any]) \u001b[38;5;241m-\u001b[39m\u001b[38;5;241m>\u001b[39m \u001b[38;5;28;01mNone\u001b[39;00m:\n\u001b[0;32m   1359\u001b[0m     \u001b[38;5;124;03m\"\"\"\u001b[39;00m\n\u001b[0;32m   1360\u001b[0m \u001b[38;5;124;03m    Let the readers open IOHanldes after they are done with their potential raises.\u001b[39;00m\n\u001b[0;32m   1361\u001b[0m \u001b[38;5;124;03m    \"\"\"\u001b[39;00m\n\u001b[1;32m-> 1362\u001b[0m     \u001b[38;5;28mself\u001b[39m\u001b[38;5;241m.\u001b[39mhandles \u001b[38;5;241m=\u001b[39m \u001b[43mget_handle\u001b[49m\u001b[43m(\u001b[49m\n\u001b[0;32m   1363\u001b[0m \u001b[43m        \u001b[49m\u001b[43msrc\u001b[49m\u001b[43m,\u001b[49m\n\u001b[0;32m   1364\u001b[0m \u001b[43m        \u001b[49m\u001b[38;5;124;43m\"\u001b[39;49m\u001b[38;5;124;43mr\u001b[39;49m\u001b[38;5;124;43m\"\u001b[39;49m\u001b[43m,\u001b[49m\n\u001b[0;32m   1365\u001b[0m \u001b[43m        \u001b[49m\u001b[43mencoding\u001b[49m\u001b[38;5;241;43m=\u001b[39;49m\u001b[43mkwds\u001b[49m\u001b[38;5;241;43m.\u001b[39;49m\u001b[43mget\u001b[49m\u001b[43m(\u001b[49m\u001b[38;5;124;43m\"\u001b[39;49m\u001b[38;5;124;43mencoding\u001b[39;49m\u001b[38;5;124;43m\"\u001b[39;49m\u001b[43m,\u001b[49m\u001b[43m \u001b[49m\u001b[38;5;28;43;01mNone\u001b[39;49;00m\u001b[43m)\u001b[49m\u001b[43m,\u001b[49m\n\u001b[0;32m   1366\u001b[0m \u001b[43m        \u001b[49m\u001b[43mcompression\u001b[49m\u001b[38;5;241;43m=\u001b[39;49m\u001b[43mkwds\u001b[49m\u001b[38;5;241;43m.\u001b[39;49m\u001b[43mget\u001b[49m\u001b[43m(\u001b[49m\u001b[38;5;124;43m\"\u001b[39;49m\u001b[38;5;124;43mcompression\u001b[39;49m\u001b[38;5;124;43m\"\u001b[39;49m\u001b[43m,\u001b[49m\u001b[43m \u001b[49m\u001b[38;5;28;43;01mNone\u001b[39;49;00m\u001b[43m)\u001b[49m\u001b[43m,\u001b[49m\n\u001b[0;32m   1367\u001b[0m \u001b[43m        \u001b[49m\u001b[43mmemory_map\u001b[49m\u001b[38;5;241;43m=\u001b[39;49m\u001b[43mkwds\u001b[49m\u001b[38;5;241;43m.\u001b[39;49m\u001b[43mget\u001b[49m\u001b[43m(\u001b[49m\u001b[38;5;124;43m\"\u001b[39;49m\u001b[38;5;124;43mmemory_map\u001b[39;49m\u001b[38;5;124;43m\"\u001b[39;49m\u001b[43m,\u001b[49m\u001b[43m \u001b[49m\u001b[38;5;28;43;01mFalse\u001b[39;49;00m\u001b[43m)\u001b[49m\u001b[43m,\u001b[49m\n\u001b[0;32m   1368\u001b[0m \u001b[43m        \u001b[49m\u001b[43mstorage_options\u001b[49m\u001b[38;5;241;43m=\u001b[39;49m\u001b[43mkwds\u001b[49m\u001b[38;5;241;43m.\u001b[39;49m\u001b[43mget\u001b[49m\u001b[43m(\u001b[49m\u001b[38;5;124;43m\"\u001b[39;49m\u001b[38;5;124;43mstorage_options\u001b[39;49m\u001b[38;5;124;43m\"\u001b[39;49m\u001b[43m,\u001b[49m\u001b[43m \u001b[49m\u001b[38;5;28;43;01mNone\u001b[39;49;00m\u001b[43m)\u001b[49m\u001b[43m,\u001b[49m\n\u001b[0;32m   1369\u001b[0m \u001b[43m    \u001b[49m\u001b[43m)\u001b[49m\n",
      "File \u001b[1;32m~\\AppData\\Roaming\\Python\\Python39\\site-packages\\pandas\\io\\common.py:642\u001b[0m, in \u001b[0;36mget_handle\u001b[1;34m(path_or_buf, mode, encoding, compression, memory_map, is_text, errors, storage_options)\u001b[0m\n\u001b[0;32m    640\u001b[0m         errors \u001b[38;5;241m=\u001b[39m \u001b[38;5;124m\"\u001b[39m\u001b[38;5;124mreplace\u001b[39m\u001b[38;5;124m\"\u001b[39m\n\u001b[0;32m    641\u001b[0m     \u001b[38;5;66;03m# Encoding\u001b[39;00m\n\u001b[1;32m--> 642\u001b[0m     handle \u001b[38;5;241m=\u001b[39m \u001b[38;5;28;43mopen\u001b[39;49m\u001b[43m(\u001b[49m\n\u001b[0;32m    643\u001b[0m \u001b[43m        \u001b[49m\u001b[43mhandle\u001b[49m\u001b[43m,\u001b[49m\n\u001b[0;32m    644\u001b[0m \u001b[43m        \u001b[49m\u001b[43mioargs\u001b[49m\u001b[38;5;241;43m.\u001b[39;49m\u001b[43mmode\u001b[49m\u001b[43m,\u001b[49m\n\u001b[0;32m    645\u001b[0m \u001b[43m        \u001b[49m\u001b[43mencoding\u001b[49m\u001b[38;5;241;43m=\u001b[39;49m\u001b[43mioargs\u001b[49m\u001b[38;5;241;43m.\u001b[39;49m\u001b[43mencoding\u001b[49m\u001b[43m,\u001b[49m\n\u001b[0;32m    646\u001b[0m \u001b[43m        \u001b[49m\u001b[43merrors\u001b[49m\u001b[38;5;241;43m=\u001b[39;49m\u001b[43merrors\u001b[49m\u001b[43m,\u001b[49m\n\u001b[0;32m    647\u001b[0m \u001b[43m        \u001b[49m\u001b[43mnewline\u001b[49m\u001b[38;5;241;43m=\u001b[39;49m\u001b[38;5;124;43m\"\u001b[39;49m\u001b[38;5;124;43m\"\u001b[39;49m\u001b[43m,\u001b[49m\n\u001b[0;32m    648\u001b[0m \u001b[43m    \u001b[49m\u001b[43m)\u001b[49m\n\u001b[0;32m    649\u001b[0m \u001b[38;5;28;01melse\u001b[39;00m:\n\u001b[0;32m    650\u001b[0m     \u001b[38;5;66;03m# Binary mode\u001b[39;00m\n\u001b[0;32m    651\u001b[0m     handle \u001b[38;5;241m=\u001b[39m \u001b[38;5;28mopen\u001b[39m(handle, ioargs\u001b[38;5;241m.\u001b[39mmode)\n",
      "\u001b[1;31mFileNotFoundError\u001b[0m: [Errno 2] No such file or directory: 'D:\\\\桌面\\\\cwtz_test.csv'"
     ]
    }
   ],
   "source": [
    "df_test= pd.read_csv(r\"D:\\桌面\\cwtz_test.csv\")\n",
    "# 将文本特征和数字特征分离\n",
    "X_numerical_test = df_test.iloc[:, 1:].values"
   ]
  },
  {
   "cell_type": "code",
   "execution_count": null,
   "id": "64af2e43-6de8-4707-948b-14b1d932f29a",
   "metadata": {},
   "outputs": [],
   "source": [
    "print(type(X_numerical_test),X_numerical_test.shape)\n",
    "print(type(X_te_tensor),X_te_tensor.shape)"
   ]
  },
  {
   "cell_type": "code",
   "execution_count": null,
   "id": "995b78cf-fc7e-4727-9e25-3055a31e1cbe",
   "metadata": {},
   "outputs": [],
   "source": [
    "# 对数字特征进行标准化处理\n",
    "scaler = StandardScaler()\n",
    "X_numerical_test = scaler.fit_transform(X_numerical_test)"
   ]
  },
  {
   "cell_type": "code",
   "execution_count": null,
   "id": "32042379-a36d-4045-8987-25decf2385ea",
   "metadata": {},
   "outputs": [],
   "source": [
    "# # 将预处理后的数据转换为PyTorch张量\n",
    "X_numerical_test = torch.tensor(X_numerical_test, dtype=torch.float32)\n",
    "\n",
    "# # 将数据封装成TensorDataset\n",
    "test_dataset = TensorDataset(X_te_tensor, X_numerical_test)\n",
    "\n",
    "# 定义批量大小和数据加载器\n",
    "batch_size = 32\n",
    "test_dataloader = DataLoader(test_dataset, batch_size=batch_size)\n",
    "\n",
    "# 使用训练好的模型进行预测\n",
    "predictions = []\n",
    "model.eval()  # 切换为评估模式\n",
    "with torch.no_grad():  # 禁用梯度计算，加速推理过程\n",
    "    for batch in test_dataloader:\n",
    "        text, numerical = batch\n",
    "        text = text.to(device)\n",
    "        numerical = numerical.to(device)\n",
    "        output = model(text, numerical)\n",
    "        predictions.extend(output.cpu().numpy().tolist())"
   ]
  },
  {
   "cell_type": "code",
   "execution_count": null,
   "id": "74ee61cb-2577-4be6-8ae0-58bee7b6c229",
   "metadata": {},
   "outputs": [],
   "source": [
    "# 输出预测结果\n",
    "jieguo=[]\n",
    "jieguo=[x[0] for x in predictions ]\n",
    "df_test['预测结果'] = jieguo\n",
    "df_test.to_excel(r\"D:\\桌面\\竞赛二结果第三次.xlsx\", index=False)"
   ]
  },
  {
   "cell_type": "code",
   "execution_count": null,
   "id": "09fdcb69-948a-4079-a482-9ac9801a1bf4",
   "metadata": {},
   "outputs": [],
   "source": [
    "import matplotlib.pyplot as plt\n",
    "plt.plot(jieguo)"
   ]
  },
  {
   "cell_type": "code",
   "execution_count": null,
   "id": "b08025b9-3c16-42f9-bc8d-62b4d0735ac7",
   "metadata": {},
   "outputs": [],
   "source": [
    "sum(np.array(jieguo)>0.5)"
   ]
  },
  {
   "cell_type": "code",
   "execution_count": null,
   "id": "43184fdc-5f37-40ff-8681-cf5759058682",
   "metadata": {},
   "outputs": [],
   "source": [
    "er=pd.read_csv(r\"D:\\桌面\\第五组二结果第二次.csv\")"
   ]
  },
  {
   "cell_type": "code",
   "execution_count": null,
   "id": "43c87e8e-8fb8-42c0-b266-40606732a702",
   "metadata": {},
   "outputs": [],
   "source": [
    "aaa =er[\"预测结果\"]"
   ]
  },
  {
   "cell_type": "code",
   "execution_count": null,
   "id": "c38a5102-1e99-4b9a-8947-c18e67b015aa",
   "metadata": {},
   "outputs": [],
   "source": [
    "plt.plot(aaa)"
   ]
  },
  {
   "cell_type": "code",
   "execution_count": null,
   "id": "aa5ad08c-4118-4cd7-a388-6517e420cc53",
   "metadata": {},
   "outputs": [],
   "source": []
  },
  {
   "cell_type": "code",
   "execution_count": null,
   "id": "a1b161b5-e482-4642-b512-ebd492fb805d",
   "metadata": {},
   "outputs": [],
   "source": []
  },
  {
   "cell_type": "code",
   "execution_count": null,
   "id": "8e62794e-5460-4314-9014-107497ce341e",
   "metadata": {},
   "outputs": [],
   "source": []
  },
  {
   "cell_type": "code",
   "execution_count": null,
   "id": "12fad9a0-e08b-4324-866e-e86a6dd318f1",
   "metadata": {},
   "outputs": [],
   "source": []
  }
 ],
 "metadata": {
  "kernelspec": {
   "display_name": "Python 3 (ipykernel)",
   "language": "python",
   "name": "python3"
  },
  "language_info": {
   "codemirror_mode": {
    "name": "ipython",
    "version": 3
   },
   "file_extension": ".py",
   "mimetype": "text/x-python",
   "name": "python",
   "nbconvert_exporter": "python",
   "pygments_lexer": "ipython3",
   "version": "3.9.12"
  }
 },
 "nbformat": 4,
 "nbformat_minor": 5
}
