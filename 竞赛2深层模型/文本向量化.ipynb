{
 "cells": [
  {
   "cell_type": "code",
   "execution_count": 3,
   "id": "1a06a57c-94d4-4eda-83c0-1584e54485d8",
   "metadata": {},
   "outputs": [
    {
     "name": "stderr",
     "output_type": "stream",
     "text": [
      "Some weights of the model checkpoint at bert-base-chinese were not used when initializing BertModel: ['cls.seq_relationship.bias', 'cls.predictions.bias', 'cls.seq_relationship.weight', 'cls.predictions.transform.dense.bias', 'cls.predictions.transform.LayerNorm.weight', 'cls.predictions.decoder.weight', 'cls.predictions.transform.dense.weight', 'cls.predictions.transform.LayerNorm.bias']\n",
      "- This IS expected if you are initializing BertModel from the checkpoint of a model trained on another task or with another architecture (e.g. initializing a BertForSequenceClassification model from a BertForPreTraining model).\n",
      "- This IS NOT expected if you are initializing BertModel from the checkpoint of a model that you expect to be exactly identical (initializing a BertForSequenceClassification model from a BertForSequenceClassification model).\n"
     ]
    }
   ],
   "source": [
    "import pandas as pd\n",
    "import numpy as np\n",
    "import torch\n",
    "from transformers import BertTokenizer, BertModel\n",
    "\n",
    "# 加载预训练的BERT模型\n",
    "tokenizer = BertTokenizer.from_pretrained('bert-base-chinese')\n",
    "model = BertModel.from_pretrained('bert-base-chinese')"
   ]
  },
  {
   "cell_type": "code",
   "execution_count": null,
   "id": "94b24004-6410-4ded-8cf5-b6acc285e16d",
   "metadata": {
    "tags": []
   },
   "outputs": [],
   "source": [
    "# 对文本数据进行向量化处理\n",
    "# jishu=1\n",
    "df = pd.read_csv(r\"D:\\桌面\\训练集竞赛2\\text_train.csv\")#270331\n",
    "df = df[[\"Company Number\",\"Report Texts\"]]\n",
    "encoded_texts = []\n",
    "for text in df['Report Texts']:\n",
    "    # jishu+=1\n",
    "    # if jishu==10000 or jishu==20000 or jishu==30000 or jishu==40000:\n",
    "    #     print(\"又10000啦\")\n",
    "    # 对每个文本进行分词，并加上特殊标记\n",
    "    marked_text = \"[CLS] \" + text + \" [SEP]\"\n",
    "    # 将分词后的文本转换成对应的ID\n",
    "    tokenized_text = tokenizer.tokenize(marked_text)\n",
    "    # 将文本ID转换成模型可接受的输入格式\n",
    "    indexed_tokens = tokenizer.convert_tokens_to_ids(tokenized_text)\n",
    "    # 将文本ID转换成PyTorch张量格式\n",
    "    tokens_tensor = torch.tensor([indexed_tokens])\n",
    "    # 将文本输入到BERT模型中，获取文本向量\n",
    "    with torch.no_grad():\n",
    "        outputs = model(tokens_tensor)\n",
    "        encoded_text = outputs[0][0][0].numpy()\n",
    "        encoded_texts.append(encoded_text)\n",
    "\n",
    "# 将向量化的文本数据添加到数据集中\n",
    "df['Encoded Texts'] = encoded_texts\n",
    "import pickle\n",
    "# 将DataFrame保存到文件中\n",
    "with open('Trainall.pkl', 'wb') as f:\n",
    "    pickle.dump(df, f)"
   ]
  },
  {
   "cell_type": "code",
   "execution_count": 15,
   "id": "5e210035-f4cb-4134-967c-daf9c78ca235",
   "metadata": {},
   "outputs": [],
   "source": [
    "with open('Trainall.pkl', 'rb') as f:\n",
    "    encoded = pickle.load(f)"
   ]
  },
  {
   "cell_type": "code",
   "execution_count": 5,
   "id": "6cd9c4f6-011c-4837-8e8f-d5923077e624",
   "metadata": {},
   "outputs": [],
   "source": []
  }
 ],
 "metadata": {
  "kernelspec": {
   "display_name": "Python 3 (ipykernel)",
   "language": "python",
   "name": "python3"
  },
  "language_info": {
   "codemirror_mode": {
    "name": "ipython",
    "version": 3
   },
   "file_extension": ".py",
   "mimetype": "text/x-python",
   "name": "python",
   "nbconvert_exporter": "python",
   "pygments_lexer": "ipython3",
   "version": "3.9.12"
  }
 },
 "nbformat": 4,
 "nbformat_minor": 5
}
