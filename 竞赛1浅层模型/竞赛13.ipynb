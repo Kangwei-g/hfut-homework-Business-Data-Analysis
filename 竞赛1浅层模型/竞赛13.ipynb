{
 "cells": [
  {
   "cell_type": "code",
   "execution_count": 1,
   "id": "9c2f2ef6-3d3d-4202-a5f4-7bcb1c1ffe1e",
   "metadata": {},
   "outputs": [
    {
     "name": "stderr",
     "output_type": "stream",
     "text": [
      "C:\\ProgramData\\Anaconda3\\lib\\site-packages\\scipy\\__init__.py:146: UserWarning: A NumPy version >=1.16.5 and <1.23.0 is required for this version of SciPy (detected version 1.23.5\n",
      "  warnings.warn(f\"A NumPy version >={np_minversion} and <{np_maxversion}\"\n"
     ]
    }
   ],
   "source": [
    "import numpy as np\n",
    "import pandas as pd\n",
    "import matplotlib.pyplot as plt\n",
    "from sklearn.model_selection import train_test_split\n",
    "from sklearn.decomposition import PCA\n",
    "from sklearn.linear_model import LogisticRegression\n",
    "from sklearn.model_selection import KFold\n",
    "from sklearn.metrics import mean_absolute_error, mean_squared_error\n",
    "from sklearn.metrics import mean_absolute_error, mean_absolute_percentage_error\n",
    "from sklearn.feature_selection import SelectKBest, chi2\n",
    "from sklearn.ensemble import RandomForestRegressor\n",
    "from sklearn.preprocessing import MinMaxScaler"
   ]
  },
  {
   "cell_type": "code",
   "execution_count": 33,
   "id": "a09e1237-cea9-4e4f-be6a-4e045bc85cca",
   "metadata": {},
   "outputs": [],
   "source": [
    "#读取数据，处理数据\n",
    "data = pd.read_csv(\"D:\\桌面\\Train.csv\")"
   ]
  },
  {
   "cell_type": "code",
   "execution_count": 34,
   "id": "31ea3713-9b95-4217-b965-ea3d9443ac29",
   "metadata": {},
   "outputs": [
    {
     "data": {
      "text/plain": [
       "[<matplotlib.lines.Line2D at 0x153a1d973d0>]"
      ]
     },
     "execution_count": 34,
     "metadata": {},
     "output_type": "execute_result"
    },
    {
     "data": {
      "image/png": "[encoded data removed]",
      "text/plain": [
       "<Figure size 432x288 with 1 Axes>"
      ]
     },
     "metadata": {
      "needs_background": "light"
     },
     "output_type": "display_data"
    }
   ],
   "source": [
    "#把shares大于10000的都删除.占比<5%\n",
    "rows_to_drop = data[data[' shares'] > 10000].index\n",
    "df = data.drop(rows_to_drop)\n",
    "y = df.iloc[:, -1]\n",
    "y_a= y.sort_values()\n",
    "plt.plot(range(len(y)),y_a)"
   ]
  },
  {
   "cell_type": "code",
   "execution_count": 35,
   "id": "c421a112-02b5-44d9-a939-19b257f25f84",
   "metadata": {},
   "outputs": [],
   "source": [
    "#手动降维\n",
    "df = df.drop([\" n_non_stop_words\",\" weekday_is_monday\",\" weekday_is_tuesday\",\" weekday_is_wednesday\",\" weekday_is_thursday\",\" weekday_is_friday\"\n",
    "                ,\" weekday_is_saturday\",\" weekday_is_sunday\"], axis=1)"
   ]
  },
  {
   "cell_type": "code",
   "execution_count": 17,
   "id": "222fb57a-edf3-4097-9a25-c24dcefb875c",
   "metadata": {},
   "outputs": [],
   "source": [
    "# 将训练数据和测试数据分开\n",
    "X = df.iloc[:, :-1]\n",
    "scaler = MinMaxScaler()\n",
    "X_scaled = scaler.fit_transform(X)\n",
    "y = df.iloc[:, -1]\n",
    "# 卡方检验特征选择和PCA特征提取\n",
    "skb = SelectKBest(chi2, k=15)\n",
    "X_new = skb.fit_transform(X_scaled, y)\n",
    "pca = PCA(n_components=5)\n",
    "X_pca = pca.fit_transform(X_new)\n",
    "X_pca = scaler.fit_transform(X_pca)"
   ]
  },
  {
   "cell_type": "code",
   "execution_count": 18,
   "id": "28c81136-3015-4a10-8669-ef130a38f4e9",
   "metadata": {},
   "outputs": [
    {
     "name": "stdout",
     "output_type": "stream",
     "text": [
      "0.29794313369630976\n",
      "48.38903288203698\n",
      "0.2813067150635209\n",
      "48.38475523555398\n",
      "0.2980332829046899\n",
      "47.52066728680071\n",
      "0.29712556732223905\n",
      "47.572793436145744\n",
      "0.3059001512859304\n",
      "48.37094085427762\n",
      "0.302874432677761\n",
      "53.03343671302601\n",
      "0.29652042360060515\n",
      "52.236844951051225\n",
      "0.29712556732223905\n",
      "52.695169732040654\n",
      "0.30620272314674735\n",
      "52.118894050138266\n",
      "0.2826021180030257\n",
      "51.502883886652604\n",
      "MAE: 1178.3752\n",
      "RMSE: 2047.3408\n",
      "MAPE: 51.5029%\n"
     ]
    }
   ],
   "source": [
    "# 训练模型并进行十折交叉验证\n",
    "n_splits = 10\n",
    "kf = KFold(n_splits=n_splits, shuffle=True, random_state=1)\n",
    "mae_list = []\n",
    "rmse_list = []\n",
    "mape_list = []\n",
    "for train_index, test_index in kf.split(X_pca):\n",
    "    X_train, X_test = X_pca[train_index], X_pca[test_index]\n",
    "    y_train, y_test = y.iloc[train_index], y.iloc[test_index]\n",
    "    #把y值分为两类来进行预测\n",
    "    y_binary = np.where(y_train > 1500,1,0)\n",
    "    lr_model = LogisticRegression(max_iter=200)\n",
    "    lr_model.fit(X_train, y_binary)\n",
    "    #把预测值映射回去\n",
    "    y_pred = lr_model.predict(X_test)\n",
    "    print(y_pred.mean())\n",
    "    y_pred= np.where(y_pred > 0, 100*12, 100*9)\n",
    "    mae_list.append(mean_absolute_error(y_test, y_pred))\n",
    "    rmse_list.append(np.sqrt(mean_squared_error(y_test, y_pred)))\n",
    "    mape_list.append(np.mean(np.abs((y_test - y_pred) / y_test)) * 100)\n",
    "    print(np.mean(mape_list))\n",
    "\n",
    "# 显示结果\n",
    "print('MAE: %.4f' % np.mean(mae_list))\n",
    "print('RMSE: %.4f' % np.mean(rmse_list))\n",
    "print('MAPE: %.4f%%' % np.mean(mape_list))"
   ]
  },
  {
   "cell_type": "code",
   "execution_count": null,
   "id": "23bf5bab-5639-4be5-972a-b4c5dbd5a59d",
   "metadata": {},
   "outputs": [],
   "source": []
  },
  {
   "cell_type": "code",
   "execution_count": 28,
   "id": "eaab8d0b-d2d3-4672-973b-ab566eef7015",
   "metadata": {},
   "outputs": [
    {
     "ename": "IndentationError",
     "evalue": "expected an indented block (662912934.py, line 3)",
     "output_type": "error",
     "traceback": [
      "\u001b[1;36m  Input \u001b[1;32mIn [28]\u001b[1;36m\u001b[0m\n\u001b[1;33m    X = df.iloc[:, :-1]\u001b[0m\n\u001b[1;37m    ^\u001b[0m\n\u001b[1;31mIndentationError\u001b[0m\u001b[1;31m:\u001b[0m expected an indented block\n"
     ]
    }
   ],
   "source": [
    "for kkk in range(10,15):\n",
    "    for jjj in range(1,kkk):\n",
    "        \n",
    "# 将训练数据和测试数据分开\n",
    "X = df.iloc[:, :-1]\n",
    "scaler = MinMaxScaler()\n",
    "X_scaled = scaler.fit_transform(X)\n",
    "y = df.iloc[:, -1]\n",
    "# 卡方检验特征选择和PCA特征提取\n",
    "skb = SelectKBest(chi2, k=kkk)\n",
    "X_new = skb.fit_transform(X_scaled, y)\n",
    "pca = PCA(n_components=jjj)\n",
    "X_pca = pca.fit_transform(X_new)\n",
    "X_pca = scaler.fit_transform(X_pca)\n",
    "# 训练模型并进行十折交叉验证\n",
    "n_splits = 10\n",
    "kf = KFold(n_splits=n_splits, shuffle=True, random_state=1)\n",
    "mae_list = []\n",
    "rmse_list = []\n",
    "mape_list = []\n",
    "for train_index, test_index in kf.split(X_pca):\n",
    "    X_train, X_test = X_pca[train_index], X_pca[test_index]\n",
    "    y_train, y_test = y.iloc[train_index], y.iloc[test_index]\n",
    "    #把y值分为两类来进行预测\n",
    "    y_binary = np.where(y_train > 1500,1,0)\n",
    "    lr_model = LogisticRegression(max_iter=200)\n",
    "    lr_model.fit(X_train, y_binary)\n",
    "    #把预测值映射回去\n",
    "    y_pred = lr_model.predict(X_test)\n",
    "    print(y_pred.mean())\n",
    "    y_pred= np.where(y_pred > 0, 100*12, 100*9)\n",
    "    mae_list.append(mean_absolute_error(y_test, y_pred))\n",
    "    rmse_list.append(np.sqrt(mean_squared_error(y_test, y_pred)))\n",
    "    mape_list.append(np.mean(np.abs((y_test - y_pred) / y_test)) * 100)\n",
    "    print(np.mean(mape_list))\n",
    "\n",
    "# 显示结果\n",
    "print('MAE: %.4f' % np.mean(mae_list))\n",
    "print('RMSE: %.4f' % np.mean(rmse_list))\n",
    "print('MAPE: %.4f%%' % np.mean(mape_list))"
   ]
  },
  {
   "cell_type": "code",
   "execution_count": 29,
   "id": "9be809b0-db4b-4880-b7eb-43ae24455622",
   "metadata": {},
   "outputs": [
    {
     "name": "stderr",
     "output_type": "stream",
     "text": [
      "C:\\Users\\shikangwei\\AppData\\Local\\Temp\\ipykernel_17880\\1980059509.py:43: MatplotlibDeprecationWarning: Axes3D(fig) adding itself to the figure is deprecated since 3.4. Pass the keyword argument auto_add_to_figure=False and use fig.add_axes(ax) to suppress this warning. The default value of auto_add_to_figure will change to False in mpl3.5 and True values will no longer work in 3.6.  This is consistent with other Axes classes.\n",
      "  ax = Axes3D(fig)\n"
     ]
    },
    {
     "data": {
      "image/png": "[encoded data removed]",
      "text/plain": [
       "<Figure size 432x288 with 1 Axes>"
      ]
     },
     "metadata": {
      "needs_background": "light"
     },
     "output_type": "display_data"
    }
   ],
   "source": [
    "# 存储结果的列表\n",
    "import matplotlib.pyplot as plt\n",
    "from mpl_toolkits.mplot3d import Axes3D\n",
    "results = []\n",
    "\n",
    "for kkk in range(10, 20):\n",
    "    for jjj in range(1, kkk):\n",
    "        \n",
    "        # 卡方检验特征选择和PCA特征提取\n",
    "        skb = SelectKBest(chi2, k=kkk)\n",
    "        X_new = skb.fit_transform(X_scaled, y)\n",
    "        pca = PCA(n_components=jjj)\n",
    "        X_pca = pca.fit_transform(X_new)\n",
    "        X_pca = scaler.fit_transform(X_pca)\n",
    "        \n",
    "        # 训练模型并进行十折交叉验证\n",
    "        n_splits = 10\n",
    "        kf = KFold(n_splits=n_splits, shuffle=True, random_state=1)\n",
    "        mape_list = []\n",
    "        for train_index, test_index in kf.split(X_pca):\n",
    "            X_train, X_test = X_pca[train_index], X_pca[test_index]\n",
    "            y_train, y_test = y.iloc[train_index], y.iloc[test_index]\n",
    "            # 把y值分为两类来进行预测\n",
    "            y_binary = np.where(y_train > 1500, 1, 0)\n",
    "            lr_model = LogisticRegression(max_iter=200)\n",
    "            lr_model.fit(X_train, y_binary)\n",
    "            # 把预测值映射回去\n",
    "            y_pred = lr_model.predict(X_test)\n",
    "            y_pred = np.where(y_pred > 0, 100 * 12, 100 * 9)\n",
    "            mape_list.append(np.mean(np.abs((y_test - y_pred) / y_test)) * 100)\n",
    "\n",
    "        # 存储kkk和jjj遍历的结果以及对应的np.mean(mape_list)值\n",
    "        results.append((kkk, jjj, np.mean(mape_list)))\n",
    "\n",
    "# 将结果转化为数组形式，并提取出kkk、jjj和np.mean(mape_list)的值\n",
    "results_array = np.array(results)\n",
    "kkk_values = results_array[:, 0]\n",
    "jjj_values = results_array[:, 1]\n",
    "mape_values = results_array[:, 2]\n",
    "\n",
    "# 用mplot3d子库进行三维图展示\n",
    "fig = plt.figure()\n",
    "ax = Axes3D(fig)\n",
    "ax.scatter(kkk_values, jjj_values, mape_values, c=mape_values, cmap='coolwarm')\n",
    "ax.set_xlabel('kkk')\n",
    "ax.set_ylabel('jjj')\n",
    "ax.set_zlabel('MAPE')\n",
    "plt.show()"
   ]
  },
  {
   "cell_type": "code",
   "execution_count": 31,
   "id": "3ff04710-547b-49d4-887e-7a786f47fd40",
   "metadata": {},
   "outputs": [
    {
     "data": {
      "text/plain": [
       "51.2558277894867"
      ]
     },
     "execution_count": 31,
     "metadata": {},
     "output_type": "execute_result"
    }
   ],
   "source": [
    "mape_values.min()"
   ]
  },
  {
   "cell_type": "code",
   "execution_count": null,
   "id": "3ab40704-7b4d-4b88-b370-14549a59e47f",
   "metadata": {},
   "outputs": [],
   "source": []
  },
  {
   "cell_type": "code",
   "execution_count": null,
   "id": "ce5c4434-3387-4fee-8775-116cf939fbee",
   "metadata": {},
   "outputs": [],
   "source": [
    "import plotly.graph_objects as go\n",
    "from scipy.interpolate import griddata\n",
    "\n",
    "# 存储结果的列表\n",
    "results = []\n",
    "\n",
    "for kkk in range(10, 20):\n",
    "    for jjj in range(1, kkk):\n",
    "        \n",
    "        # 卡方检验特征选择和PCA特征提取\n",
    "        skb = SelectKBest(chi2, k=kkk)\n",
    "        X_new = skb.fit_transform(X_scaled, y)\n",
    "        pca = PCA(n_components=jjj)\n",
    "        X_pca = pca.fit_transform(X_new)\n",
    "        X_pca = scaler.fit_transform(X_pca)\n",
    "        \n",
    "        # 训练模型并进行十折交叉验证\n",
    "        n_splits = 10\n",
    "        kf = KFold(n_splits=n_splits, shuffle=True, random_state=1)\n",
    "        mape_list = []\n",
    "        for train_index, test_index in kf.split(X_pca):\n",
    "            X_train, X_test = X_pca[train_index], X_pca[test_index]\n",
    "            y_train, y_test = y.iloc[train_index], y.iloc[test_index]\n",
    "            # 把y值分为两类来进行预测\n",
    "            y_binary = np.where(y_train > 1500, 1, 0)\n",
    "            lr_model = LogisticRegression(max_iter=200)\n",
    "            lr_model.fit(X_train, y_binary)\n",
    "            # 把预测值映射回去\n",
    "            y_pred = lr_model.predict(X_test)\n",
    "            y_pred = np.where(y_pred > 0, 100 * 12, 100 * 9)\n",
    "            mape_list.append(np.mean(np.abs((y_test - y_pred) / y_test)) * 100)\n",
    "\n",
    "        # 存储kkk和jjj遍历的结果以及对应的np.mean(mape_list)值\n",
    "        results.append((kkk, jjj, np.mean(mape_list)))\n",
    "\n",
    "# 将结果转化为数组形式，并提取出kkk、jjj和np.mean(mape_list)的值\n",
    "results_array = np.array(results)\n",
    "kkk_values = results_array[:, 0]\n",
    "jjj_values = results_array[:, 1]\n",
    "mape_values = results_array[:, 2]\n",
    "\n",
    "# 创建3D散点图\n",
    "fig = go.Figure(data=[go.Scatter3d(x=kkk_values, y=jjj_values, z=mape_values, mode='markers', \n",
    "                                   marker=dict(size=5, color=mape_values, colorscale='Viridis'))])\n",
    "\n",
    "# 生成插值面\n",
    "x_grid, y_grid = np.mgrid[min(kkk_values):max(kkk_values):100j, min(jjj_values):max(jjj_values):100j]\n",
    "z_grid = griddata((kkk_values, jjj_values), mape_values, (x_grid, y_grid), method='cubic')\n",
    "fig.add_surface(x=x_grid[:,0], y=y_grid[0,:], z=z_grid, opacity=0.6)\n",
    "\n",
    "# 设置坐标轴名称和范围\n",
    "fig.update_layout(scene=dict(xaxis_title='kkk', yaxis_title='jjj', zaxis_title='MAPE', \n",
    "                             xaxis=dict(range=[min(kkk_values), max(kkk_values)]),\n",
    "                             yaxis=dict(range=[min(jjj_values), max(jjj_values)]),\n",
    "                             zaxis=dict(range=[min(mape_values), max(mape_values)])))"
   ]
  },
  {
   "cell_type": "code",
   "execution_count": 41,
   "id": "57860c42-8930-462c-bc02-c68f2ecdadfe",
   "metadata": {},
   "outputs": [
    {
     "name": "stdout",
     "output_type": "stream",
     "text": [
      "最小MAPE值对应的kkk为： 18.0\n",
      "最小MAPE值对应的jjj为： 17.0\n"
     ]
    }
   ],
   "source": [
    "# 找到最小MAPE值对应的索引\n",
    "min_index = np.argmin(mape_values)\n",
    "\n",
    "# 根据索引获取kkk和jjj的值\n",
    "min_kkk = kkk_values[min_index]\n",
    "min_jjj = jjj_values[min_index]\n",
    "\n",
    "print('最小MAPE值对应的kkk为：', min_kkk)\n",
    "print('最小MAPE值对应的jjj为：', min_jjj)"
   ]
  },
  {
   "cell_type": "code",
   "execution_count": null,
   "id": "5fcabe24-ecda-4eae-9901-451584596f0f",
   "metadata": {},
   "outputs": [],
   "source": []
  },
  {
   "cell_type": "code",
   "execution_count": null,
   "id": "c2c0b5e0-59e0-4b67-9706-c5dc94344a22",
   "metadata": {},
   "outputs": [],
   "source": []
  },
  {
   "cell_type": "code",
   "execution_count": null,
   "id": "b9148daf-944a-432a-92cf-05defa4e4ccc",
   "metadata": {},
   "outputs": [],
   "source": []
  }
 ],
 "metadata": {
  "kernelspec": {
   "display_name": "Python 3 (ipykernel)",
   "language": "python",
   "name": "python3"
  },
  "language_info": {
   "codemirror_mode": {
    "name": "ipython",
    "version": 3
   },
   "file_extension": ".py",
   "mimetype": "text/x-python",
   "name": "python",
   "nbconvert_exporter": "python",
   "pygments_lexer": "ipython3",
   "version": "3.9.12"
  }
 },
 "nbformat": 4,
 "nbformat_minor": 5
}
