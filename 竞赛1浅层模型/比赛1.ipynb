{
 "cells": [
  {
   "cell_type": "code",
   "execution_count": 3,
   "id": "1f2b6da5",
   "metadata": {},
   "outputs": [
    {
     "name": "stdout",
     "output_type": "stream",
     "text": [
      "MAE: 3140.0976\n",
      "RMSE: 8112.0882\n",
      "MAPE: 181.5343%\n"
     ]
    }
   ],
   "source": [
    "import pandas as pd\n",
    "import numpy as np\n",
    "import xgboost as xgb\n",
    "from sklearn.model_selection import train_test_split\n",
    "from sklearn.metrics import mean_absolute_error, mean_squared_error\n",
    "\n",
    "# 读取数据\n",
    "data = pd.read_excel(\"D:\\桌面\\Train.xlsx\").sample(frac=0.1, random_state=0)\n",
    "\n",
    "# 将训练数据和测试数据分开\n",
    "X = data.iloc[:, :-1]\n",
    "y = data.iloc[:, -1]\n",
    "X_train, X_test, y_train, y_test = train_test_split(X, y, test_size=0.3, random_state=0)\n",
    "\n",
    "# 训练XGBoost模型\n",
    "xgb_model = xgb.XGBRegressor()\n",
    "xgb_model.fit(X_train, y_train)\n",
    "\n",
    "# 在测试集上进行预测\n",
    "y_pred = xgb_model.predict(X_test)\n",
    "\n",
    "# 计算MAE、RMSE和MAPE\n",
    "mae = mean_absolute_error(y_test, y_pred)\n",
    "rmse = np.sqrt(mean_squared_error(y_test, y_pred))\n",
    "mape = np.mean(np.abs((y_test - y_pred) / y_test)) * 100\n",
    "\n",
    "# 显示结果\n",
    "print('MAE: %.4f' % mae)\n",
    "print('RMSE: %.4f' % rmse)\n",
    "print('MAPE: %.4f%%' % mape)\n",
    "#0.1样本数量，未用十折交叉验证（XGBoost）"
   ]
  },
  {
   "cell_type": "code",
   "execution_count": 4,
   "id": "a227271f-bad3-45ed-b3aa-b3d46b17eb25",
   "metadata": {},
   "outputs": [
    {
     "name": "stdout",
     "output_type": "stream",
     "text": [
      "MAE: 3294.5518\n",
      "RMSE: 9128.3996\n",
      "MAPE: 187.8078%\n"
     ]
    }
   ],
   "source": [
    "import pandas as pd\n",
    "import numpy as np\n",
    "import xgboost as xgb\n",
    "from sklearn.model_selection import train_test_split\n",
    "from sklearn.metrics import mean_absolute_error, mean_squared_error\n",
    "\n",
    "# 读取数据\n",
    "data = pd.read_excel(\"D:\\桌面\\Train.xlsx\")\n",
    "\n",
    "# 将训练数据和测试数据分开\n",
    "X = data.iloc[:, :-1]\n",
    "y = data.iloc[:, -1]\n",
    "X_train, X_test, y_train, y_test = train_test_split(X, y, test_size=0.3, random_state=0)\n",
    "\n",
    "# 训练XGBoost模型\n",
    "xgb_model = xgb.XGBRegressor()\n",
    "xgb_model.fit(X_train, y_train)\n",
    "\n",
    "# 在测试集上进行预测\n",
    "y_pred = xgb_model.predict(X_test)\n",
    "\n",
    "# 计算MAE、RMSE和MAPE\n",
    "mae = mean_absolute_error(y_test, y_pred)\n",
    "rmse = np.sqrt(mean_squared_error(y_test, y_pred))\n",
    "mape = np.mean(np.abs((y_test - y_pred) / y_test)) * 100\n",
    "\n",
    "# 显示结果\n",
    "print('MAE: %.4f' % mae)\n",
    "print('RMSE: %.4f' % rmse)\n",
    "print('MAPE: %.4f%%' % mape)\n",
    "#所有样本，未用十折交叉验证（XGBoost）"
   ]
  },
  {
   "cell_type": "code",
   "execution_count": 2,
   "id": "056ec8f4",
   "metadata": {},
   "outputs": [
    {
     "name": "stdout",
     "output_type": "stream",
     "text": [
      "MAE: 3389.8637\n",
      "RMSE: 11627.1515\n",
      "MAPE: 211.6937%\n"
     ]
    }
   ],
   "source": [
    "import pandas as pd\n",
    "import numpy as np\n",
    "import xgboost as xgb\n",
    "from sklearn.model_selection import KFold\n",
    "from sklearn.metrics import mean_absolute_error, mean_squared_error\n",
    "\n",
    "# 读取数据\n",
    "data = pd.read_excel(\"D:\\桌面\\Train.xlsx\")\n",
    "\n",
    "# 将训练数据和测试数据分开\n",
    "X = data.iloc[:, :-1]\n",
    "y = data.iloc[:, -1]\n",
    "\n",
    "# 进行十折交叉验证\n",
    "kf = KFold(n_splits=10, shuffle=True, random_state=0)\n",
    "\n",
    "mae_list = []\n",
    "rmse_list = []\n",
    "mape_list = []\n",
    "\n",
    "for train_index, test_index in kf.split(X):\n",
    "    X_train, X_test = X.iloc[train_index], X.iloc[test_index]\n",
    "    y_train, y_test = y.iloc[train_index], y.iloc[test_index]\n",
    "\n",
    "    # 训练XGBoost模型\n",
    "    xgb_model = xgb.XGBRegressor()\n",
    "    xgb_model.fit(X_train, y_train)\n",
    "\n",
    "    # 在测试集上进行预测\n",
    "    y_pred = xgb_model.predict(X_test)\n",
    "\n",
    "    # 计算MAE、RMSE和MAPE\n",
    "    mae = mean_absolute_error(y_test, y_pred)\n",
    "    rmse = np.sqrt(mean_squared_error(y_test, y_pred))\n",
    "    mape = np.mean(np.abs((y_test - y_pred) / y_test)) * 100\n",
    "\n",
    "    mae_list.append(mae)\n",
    "    rmse_list.append(rmse)\n",
    "    mape_list.append(mape)\n",
    "\n",
    "# 显示结果\n",
    "print('MAE: %.4f' % np.mean(mae_list))\n",
    "print('RMSE: %.4f' % np.mean(rmse_list))\n",
    "print('MAPE: %.4f%%' % np.mean(mape_list))\n",
    "#所有样本，使用十折交叉验证（XGBoost）"
   ]
  },
  {
   "cell_type": "code",
   "execution_count": 5,
   "id": "fbbc26b9",
   "metadata": {},
   "outputs": [
    {
     "name": "stdout",
     "output_type": "stream",
     "text": [
      "MAE: 2990.8379\n",
      "RMSE: 6861.8811\n",
      "MAPE: 161.5449%\n"
     ]
    }
   ],
   "source": [
    "import pandas as pd\n",
    "import numpy as np\n",
    "import xgboost as xgb\n",
    "from sklearn.model_selection import KFold\n",
    "from sklearn.metrics import mean_absolute_error, mean_squared_error\n",
    "\n",
    "# 读取数据\n",
    "data = pd.read_excel(\"D:\\桌面\\Train.xlsx\").sample(frac=0.1, random_state=0)\n",
    "\n",
    "# 将训练数据和测试数据分开\n",
    "X = data.iloc[:, :-1]\n",
    "y = data.iloc[:, -1]\n",
    "\n",
    "# 进行十折交叉验证\n",
    "kf = KFold(n_splits=10, shuffle=True, random_state=0)\n",
    "\n",
    "mae_list = []\n",
    "rmse_list = []\n",
    "mape_list = []\n",
    "\n",
    "for train_index, test_index in kf.split(X):\n",
    "    X_train, X_test = X.iloc[train_index], X.iloc[test_index]\n",
    "    y_train, y_test = y.iloc[train_index], y.iloc[test_index]\n",
    "\n",
    "    # 训练XGBoost模型\n",
    "    xgb_model = xgb.XGBRegressor()\n",
    "    xgb_model.fit(X_train, y_train)\n",
    "\n",
    "    # 在测试集上进行预测\n",
    "    y_pred = xgb_model.predict(X_test)\n",
    "\n",
    "    # 计算MAE、RMSE和MAPE\n",
    "    mae = mean_absolute_error(y_test, y_pred)\n",
    "    rmse = np.sqrt(mean_squared_error(y_test, y_pred))\n",
    "    mape = np.mean(np.abs((y_test - y_pred) / y_test)) * 100\n",
    "\n",
    "    mae_list.append(mae)\n",
    "    rmse_list.append(rmse)\n",
    "    mape_list.append(mape)\n",
    "\n",
    "# 显示结果\n",
    "print('MAE: %.4f' % np.mean(mae_list))\n",
    "print('RMSE: %.4f' % np.mean(rmse_list))\n",
    "print('MAPE: %.4f%%' % np.mean(mape_list))\n",
    "#0。1样本，使用十折交叉验证（XGBoost）"
   ]
  },
  {
   "cell_type": "code",
   "execution_count": 13,
   "id": "7be7aeca-f002-44a1-85ff-af65aae596c3",
   "metadata": {},
   "outputs": [
    {
     "name": "stdout",
     "output_type": "stream",
     "text": [
      "MAE: 2752.1684\n",
      "RMSE: 6361.5930\n",
      "MAPE: 159.5835%\n"
     ]
    }
   ],
   "source": [
    "import pandas as pd\n",
    "import numpy as np\n",
    "import xgboost as xgb\n",
    "from sklearn.model_selection import KFold\n",
    "from sklearn.metrics import mean_absolute_error, mean_squared_error\n",
    "\n",
    "# 读取数据\n",
    "data = pd.read_excel(\"D:\\桌面\\Train.xlsx\").sample(frac=0.1, random_state=0)\n",
    "\n",
    "# 数据归一化\n",
    "scaler = MinMaxScaler()\n",
    "X = data.iloc[:, :-1]\n",
    "X_scaled = scaler.fit_transform(X)\n",
    "y = data.iloc[:, -1]\n",
    "\n",
    "# 特征选择\n",
    "selector = SelectKBest(chi2, k=10)\n",
    "X_new = selector.fit_transform(X_scaled, y)\n",
    "\n",
    "# 进行十折交叉验证\n",
    "kf = KFold(n_splits=10, shuffle=True, random_state=0)\n",
    "\n",
    "mae_list = []\n",
    "rmse_list = []\n",
    "mape_list = []\n",
    "\n",
    "for train_index, test_index in kf.split(X_new):\n",
    "    X_train, X_test = X_new[train_index], X_new[test_index]\n",
    "    y_train, y_test = y.iloc[train_index], y.iloc[test_index]\n",
    "\n",
    "    # 训练XGBoost模型\n",
    "    xgb_model = xgb.XGBRegressor()\n",
    "    xgb_model.fit(X_train, y_train)\n",
    "\n",
    "    # 在测试集上进行预测\n",
    "    y_pred = xgb_model.predict(X_test)\n",
    "\n",
    "    # 计算MAE、RMSE和MAPE\n",
    "    mae = mean_absolute_error(y_test, y_pred)\n",
    "    rmse = np.sqrt(mean_squared_error(y_test, y_pred))\n",
    "    mape = np.mean(np.abs((y_test - y_pred) / y_test)) * 100\n",
    "\n",
    "    mae_list.append(mae)\n",
    "    rmse_list.append(rmse)\n",
    "    mape_list.append(mape)\n",
    "\n",
    "# 显示结果\n",
    "print('MAE: %.4f' % np.mean(mae_list))\n",
    "print('RMSE: %.4f' % np.mean(rmse_list))\n",
    "print('MAPE: %.4f%%' % np.mean(mape_list))\n",
    "#0。1样本，使用十折交叉验证（XGBoost）(进行了特征选择)"
   ]
  },
  {
   "cell_type": "code",
   "execution_count": null,
   "id": "fe61113f-62b8-4276-b12f-7d9b18c3afff",
   "metadata": {},
   "outputs": [],
   "source": []
  },
  {
   "cell_type": "code",
   "execution_count": null,
   "id": "7db3321e-8140-4789-902f-09f5aa3cc64a",
   "metadata": {},
   "outputs": [],
   "source": []
  },
  {
   "cell_type": "code",
   "execution_count": 6,
   "id": "a1344b3b-d6be-4a88-b85a-e99707c4996c",
   "metadata": {},
   "outputs": [
    {
     "name": "stdout",
     "output_type": "stream",
     "text": [
      "MAE: 2752.6732\n",
      "RMSE: 6361.6095\n",
      "MAPE: 159.5830%\n"
     ]
    }
   ],
   "source": [
    "import pandas as pd\n",
    "import numpy as np\n",
    "from sklearn.feature_selection import SelectKBest, chi2\n",
    "from sklearn.ensemble import RandomForestRegressor\n",
    "from sklearn.model_selection import KFold\n",
    "from sklearn.metrics import mean_absolute_error, mean_squared_error\n",
    "from sklearn.preprocessing import MinMaxScaler\n",
    "\n",
    "# 读取数据并抽样\n",
    "data = pd.read_excel(\"D:\\桌面\\Train.xlsx\").sample(frac=0.1, random_state=0)\n",
    "\n",
    "# 数据归一化\n",
    "scaler = MinMaxScaler()\n",
    "X = data.iloc[:, :-1]\n",
    "X_scaled = scaler.fit_transform(X)\n",
    "y = data.iloc[:, -1]\n",
    "\n",
    "# 特征选择\n",
    "selector = SelectKBest(chi2, k=10)\n",
    "X_new = selector.fit_transform(X_scaled, y)\n",
    "\n",
    "# 训练模型并进行十折交叉验证\n",
    "n_splits = 10\n",
    "kf = KFold(n_splits=n_splits, shuffle=True, random_state=0)\n",
    "mae_list = []\n",
    "rmse_list = []\n",
    "mape_list = []\n",
    "for train_index, test_index in kf.split(X_new):\n",
    "    X_train, X_test = X_new[train_index], X_new[test_index]\n",
    "    y_train, y_test = y.iloc[train_index], y.iloc[test_index]\n",
    "    rf_model = RandomForestRegressor()\n",
    "    rf_model.fit(X_train, y_train)\n",
    "    y_pred = rf_model.predict(X_test)\n",
    "    mae_list.append(mean_absolute_error(y_test, y_pred))\n",
    "    rmse_list.append(np.sqrt(mean_squared_error(y_test, y_pred)))\n",
    "    mape_list.append(np.mean(np.abs((y_test - y_pred) / y_test)) * 100)\n",
    "\n",
    "# 显示结果\n",
    "print('MAE: %.4f' % np.mean(mae_list))\n",
    "print('RMSE: %.4f' % np.mean(rmse_list))\n",
    "print('MAPE: %.4f%%' % np.mean(mape_list))\n",
    "#0.1样本，使用十折交叉验证（RF）（进行了特征选择）"
   ]
  },
  {
   "cell_type": "code",
   "execution_count": 1,
   "id": "ceea9bd3-9ae3-4d3d-9bfd-24d2d911f66d",
   "metadata": {},
   "outputs": [
    {
     "name": "stdout",
     "output_type": "stream",
     "text": [
      "MAE: 2431.4313\n",
      "RMSE: 10955.8070\n",
      "MAPE: 66.8886%\n"
     ]
    }
   ],
   "source": [
    "import pandas as pd\n",
    "import numpy as np\n",
    "from sklearn.feature_selection import SelectKBest, chi2\n",
    "from sklearn.svm import SVR\n",
    "from sklearn.model_selection import KFold\n",
    "from sklearn.metrics import mean_absolute_error, mean_squared_error\n",
    "from sklearn.preprocessing import MinMaxScaler\n",
    "\n",
    "# 读取数据并抽样\n",
    "data = pd.read_excel(\"D:\\桌面\\Train.xlsx\")\n",
    "\n",
    "# 数据归一化\n",
    "scaler = MinMaxScaler()\n",
    "X = data.iloc[:, :-1]\n",
    "X_scaled = scaler.fit_transform(X)\n",
    "y = data.iloc[:, -1]\n",
    "\n",
    "# 特征选择\n",
    "selector = SelectKBest(chi2, k=10)\n",
    "X_new = selector.fit_transform(X_scaled, y)\n",
    "\n",
    "# 训练模型并进行十折交叉验证\n",
    "n_splits = 10\n",
    "kf = KFold(n_splits=n_splits, shuffle=True, random_state=0)\n",
    "mae_list = []\n",
    "rmse_list = []\n",
    "mape_list = []\n",
    "for train_index, test_index in kf.split(X_new):\n",
    "    X_train, X_test = X_new[train_index], X_new[test_index]\n",
    "    y_train, y_test = y.iloc[train_index], y.iloc[test_index]\n",
    "    svr_model = SVR()\n",
    "    svr_model.fit(X_train, y_train)\n",
    "    y_pred = svr_model.predict(X_test)\n",
    "    mae_list.append(mean_absolute_error(y_test, y_pred))\n",
    "    rmse_list.append(np.sqrt(mean_squared_error(y_test, y_pred)))\n",
    "    mape_list.append(np.mean(np.abs((y_test - y_pred) / y_test)) * 100)\n",
    "\n",
    "# 显示结果\n",
    "print('MAE: %.4f' % np.mean(mae_list))\n",
    "print('RMSE: %.4f' % np.mean(rmse_list))\n",
    "print('MAPE: %.4f%%' % np.mean(mape_list))\n"
   ]
  },
  {
   "cell_type": "code",
   "execution_count": 17,
   "id": "01ff2b32-fe64-4e4b-ab0d-71396f9bf745",
   "metadata": {},
   "outputs": [],
   "source": [
    "import pandas as pd\n",
    "import numpy as np\n",
    "from sklearn.feature_selection import SelectKBest, chi2, f_regression\n",
    "from sklearn.svm import SVR\n",
    "from sklearn.model_selection import KFold\n",
    "from sklearn.metrics import mean_absolute_error, mean_squared_error\n",
    "from sklearn.preprocessing import MinMaxScaler\n",
    "\n",
    "# 读取数据并抽样\n",
    "data = pd.read_excel(\"D:\\桌面\\Train.xlsx\")\n",
    "\n",
    "# 数据归一化\n",
    "scaler = MinMaxScaler()\n",
    "X = data.iloc[:, :-1]\n",
    "X_scaled = scaler.fit_transform(X)"
   ]
  },
  {
   "cell_type": "code",
   "execution_count": 18,
   "id": "a2b6d363-3c5d-4687-a88d-c3a87c4e6589",
   "metadata": {},
   "outputs": [
    {
     "data": {
      "text/plain": [
       "array([[5.29411765e-01, 2.58437574e-02, 9.46639753e-04, ...,\n",
       "        4.06250000e-01, 0.00000000e+00, 1.87500000e-01],\n",
       "       [3.52941176e-01, 3.00920463e-02, 8.62686278e-04, ...,\n",
       "        5.00000000e-01, 1.00000000e+00, 0.00000000e+00],\n",
       "       [3.52941176e-01, 6.26622610e-02, 7.18670297e-04, ...,\n",
       "        5.00000000e-01, 1.00000000e+00, 0.00000000e+00],\n",
       "       ...,\n",
       "       [4.11764706e-01, 6.30162851e-02, 7.10544368e-04, ...,\n",
       "        5.00000000e-01, 1.00000000e+00, 0.00000000e+00],\n",
       "       [4.70588235e-01, 4.63771536e-02, 6.55834892e-04, ...,\n",
       "        5.50000000e-01, 1.00000000e+00, 1.00000000e-01],\n",
       "       [5.29411765e-01, 0.00000000e+00, 0.00000000e+00, ...,\n",
       "        7.50000000e-01, 1.00000000e+00, 5.00000000e-01]])"
      ]
     },
     "execution_count": 18,
     "metadata": {},
     "output_type": "execute_result"
    }
   ],
   "source": [
    "X_scaled"
   ]
  },
  {
   "cell_type": "code",
   "execution_count": 19,
   "id": "33b14c6e-a7ec-4f5d-aa57-c61ef5b55d68",
   "metadata": {},
   "outputs": [
    {
     "data": {
      "text/plain": [
       "0        6.385194\n",
       "1        6.566672\n",
       "2        7.090077\n",
       "3        6.224558\n",
       "4        6.751101\n",
       "           ...   \n",
       "34995    6.736967\n",
       "34996    9.539644\n",
       "34997    7.003065\n",
       "34998    6.710523\n",
       "34999    6.214608\n",
       "Name:  shares, Length: 35000, dtype: float64"
      ]
     },
     "execution_count": 19,
     "metadata": {},
     "output_type": "execute_result"
    }
   ],
   "source": [
    "y = np.log(data.iloc[:,-1])\n",
    "y"
   ]
  },
  {
   "cell_type": "code",
   "execution_count": 21,
   "id": "06188dab-dfe0-4f1e-b132-4ea1f849d44b",
   "metadata": {},
   "outputs": [
    {
     "name": "stdout",
     "output_type": "stream",
     "text": [
      "MAE: 0.6335\n",
      "RMSE: 0.8953\n",
      "MAPE: inf%\n"
     ]
    }
   ],
   "source": [
    "# 特征选择\n",
    "selector = SelectKBest(f_regression, k=10)\n",
    "selector.fit(X_scaled, y)\n",
    "X_new = selector.transform(X_scaled)\n",
    "\n",
    "# 训练模型并进行十折交叉验证\n",
    "n_splits = 10\n",
    "kf = KFold(n_splits=n_splits, shuffle=True, random_state=0)\n",
    "mae_list = []\n",
    "rmse_list = []\n",
    "mape_list = []\n",
    "for train_index, test_index in kf.split(X_new):\n",
    "    X_train, X_test = X_new[train_index], X_new[test_index]\n",
    "    y_train, y_test = y.iloc[train_index], y.iloc[test_index]\n",
    "    svr_model = SVR()\n",
    "    svr_model.fit(X_train, y_train)\n",
    "    y_pred = svr_model.predict(X_test)\n",
    "    mae_list.append(mean_absolute_error(y_test, y_pred))\n",
    "    rmse_list.append(np.sqrt(mean_squared_error(y_test, y_pred)))\n",
    "    mape_list.append(np.mean(np.abs((np.exp(y_test) - np.exp(y_pred)) / np.exp(y_test))) * 100)\n",
    "\n",
    "# 显示结果\n",
    "print('MAE: %.4f' % np.mean(mae_list))\n",
    "print('RMSE: %.4f' % np.mean(rmse_list))\n",
    "print('MAPE: %.4f%%' % np.mean(mape_list))"
   ]
  },
  {
   "cell_type": "code",
   "execution_count": 48,
   "id": "8881fa0f-722b-4bb1-94d0-a4cb6d86e7de",
   "metadata": {},
   "outputs": [
    {
     "name": "stdout",
     "output_type": "stream",
     "text": [
      "MAE: 0.6335\n",
      "RMSE: 0.8953\n",
      "MAPE: 69.9972%\n"
     ]
    }
   ],
   "source": [
    "# 训练模型并进行十折交叉验证\n",
    "n_splits = 10\n",
    "kf = KFold(n_splits=n_splits, shuffle=True, random_state=0)\n",
    "mae_list = []\n",
    "rmse_list = []\n",
    "mape_list = []\n",
    "for train_index, test_index in kf.split(X_new):\n",
    "    X_train, X_test = X_new[train_index], X_new[test_index]\n",
    "    y_train, y_test = y.iloc[train_index], y.iloc[test_index]\n",
    "    svr_model = SVR()\n",
    "    svr_model.fit(X_train, y_train)\n",
    "    y_pred = svr_model.predict(X_test)\n",
    "    mae_list.append(mean_absolute_error(y_test, y_pred))\n",
    "    rmse_list.append(np.sqrt(mean_squared_error(y_test, y_pred)))\n",
    "    mape_list.append(np.mean(np.abs((np.exp(y_test) - np.exp(y_pred)) / np.exp(y_test))) * 100)\n",
    "\n",
    "# 显示结果\n",
    "print('MAE: %.4f' % np.mean(mae_list))\n",
    "print('RMSE: %.4f' % np.mean(rmse_list))\n",
    "print('MAPE: %.4f%%' % np.mean(mape_list))"
   ]
  },
  {
   "cell_type": "code",
   "execution_count": 46,
   "id": "d32be2aa-7744-4081-a270-7fd7bd3e1353",
   "metadata": {},
   "outputs": [
    {
     "data": {
      "text/plain": [
       "62.47310453631209"
      ]
     },
     "execution_count": 46,
     "metadata": {},
     "output_type": "execute_result"
    }
   ],
   "source": [
    "np.mean(np.abs((np.exp(y_test) - np.exp(y_pred)) / np.exp(y_test))) * 100"
   ]
  },
  {
   "cell_type": "code",
   "execution_count": 47,
   "id": "f6bf492b-8669-4710-810e-777295003c44",
   "metadata": {},
   "outputs": [
    {
     "data": {
      "text/plain": [
       "3.091042453358316"
      ]
     },
     "execution_count": 47,
     "metadata": {},
     "output_type": "execute_result"
    }
   ],
   "source": []
  },
  {
   "cell_type": "code",
   "execution_count": 33,
   "id": "309b6975-b826-4d47-9dd3-fa118d34af24",
   "metadata": {},
   "outputs": [],
   "source": [
    "my_list=mape_list\n",
    "my_list = [x for x in my_list if x != float('inf') and x != float('-inf')]"
   ]
  },
  {
   "cell_type": "markdown",
   "id": "835452c9-707c-4615-aff6-fba94274476f",
   "metadata": {},
   "source": [
    "my_list"
   ]
  },
  {
   "cell_type": "code",
   "execution_count": 35,
   "id": "5f5eedee-329c-4227-ab2d-39924c08fe37",
   "metadata": {},
   "outputs": [
    {
     "data": {
      "text/plain": [
       "8.130431988388352"
      ]
     },
     "execution_count": 35,
     "metadata": {},
     "output_type": "execute_result"
    }
   ],
   "source": [
    "np.mean(my_list)"
   ]
  },
  {
   "cell_type": "code",
   "execution_count": 42,
   "id": "ab133943-b60a-4e0e-b49b-15ca9da5e2ad",
   "metadata": {},
   "outputs": [
    {
     "data": {
      "text/plain": [
       "0.5"
      ]
     },
     "execution_count": 42,
     "metadata": {},
     "output_type": "execute_result"
    }
   ],
   "source": [
    "(2-1)/2"
   ]
  },
  {
   "cell_type": "code",
   "execution_count": 43,
   "id": "8cd18496-f057-4524-b238-c9fd33a4d8f6",
   "metadata": {},
   "outputs": [
    {
     "data": {
      "text/plain": [
       "1.0"
      ]
     },
     "execution_count": 43,
     "metadata": {},
     "output_type": "execute_result"
    }
   ],
   "source": [
    "(np.log(2)-np.log(1))/np.log(2)"
   ]
  },
  {
   "cell_type": "code",
   "execution_count": 44,
   "id": "fe5fef25-4b31-4fe9-acf8-5fba7ac8e57b",
   "metadata": {},
   "outputs": [
    {
     "data": {
      "text/plain": [
       "0.6666666666666666"
      ]
     },
     "execution_count": 44,
     "metadata": {},
     "output_type": "execute_result"
    }
   ],
   "source": [
    "(3**2-3**1)/(3**2)"
   ]
  },
  {
   "cell_type": "code",
   "execution_count": 45,
   "id": "439900f3-0873-4080-9f73-b2ff29a82a9d",
   "metadata": {},
   "outputs": [
    {
     "data": {
      "text/plain": [
       "2.718281828459045"
      ]
     },
     "execution_count": 45,
     "metadata": {},
     "output_type": "execute_result"
    }
   ],
   "source": [
    "np.exp(1)"
   ]
  },
  {
   "cell_type": "code",
   "execution_count": 52,
   "id": "3e619627-7e02-4a30-8708-912868208c14",
   "metadata": {},
   "outputs": [
    {
     "data": {
      "text/plain": [
       "3500"
      ]
     },
     "execution_count": 52,
     "metadata": {},
     "output_type": "execute_result"
    }
   ],
   "source": [
    "len(np.exp(y_pred))"
   ]
  },
  {
   "cell_type": "code",
   "execution_count": 58,
   "id": "28def9de-23e0-406b-8a88-de97478d2ed9",
   "metadata": {},
   "outputs": [
    {
     "data": {
      "text/plain": [
       "506"
      ]
     },
     "execution_count": 58,
     "metadata": {},
     "output_type": "execute_result"
    }
   ],
   "source": [
    "y = abs(np.exp(y_test) - np.exp(y_pred))\n",
    "len(y[y >3000])"
   ]
  },
  {
   "cell_type": "code",
   "execution_count": 57,
   "id": "31971f8d-6b8c-4303-a3b0-24420a9d4b06",
   "metadata": {},
   "outputs": [
    {
     "data": {
      "image/png": "[encoded data removed]",
      "text/plain": [
       "<Figure size 432x288 with 1 Axes>"
      ]
     },
     "metadata": {
      "needs_background": "light"
     },
     "output_type": "display_data"
    }
   ],
   "source": [
    "import matplotlib.pyplot as plt\n",
    "\n",
    "plt.plot(range(3500), y_test - y_pred)\n",
    "plt.show()"
   ]
  },
  {
   "cell_type": "code",
   "execution_count": null,
   "id": "1ea72e7d-e3d2-4b35-9c6f-e87c66b42723",
   "metadata": {},
   "outputs": [],
   "source": []
  }
 ],
 "metadata": {
  "kernelspec": {
   "display_name": "Python 3 (ipykernel)",
   "language": "python",
   "name": "python3"
  },
  "language_info": {
   "codemirror_mode": {
    "name": "ipython",
    "version": 3
   },
   "file_extension": ".py",
   "mimetype": "text/x-python",
   "name": "python",
   "nbconvert_exporter": "python",
   "pygments_lexer": "ipython3",
   "version": "3.9.12"
  }
 },
 "nbformat": 4,
 "nbformat_minor": 5
}
