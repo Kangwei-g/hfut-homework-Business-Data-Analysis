{
 "cells": [
  {
   "cell_type": "code",
   "execution_count": 8,
   "id": "e1bca0af-7cee-466d-bda6-8dc569794cc7",
   "metadata": {},
   "outputs": [
    {
     "name": "stdout",
     "output_type": "stream",
     "text": [
      "MAE: 2897.7872\n",
      "RMSE: 6462.1428\n",
      "MAPE: 179.1357%\n"
     ]
    }
   ],
   "source": [
    "import pandas as pd\n",
    "import numpy as np\n",
    "from sklearn.decomposition import PCA\n",
    "from sklearn.ensemble import RandomForestRegressor\n",
    "from sklearn.model_selection import KFold\n",
    "from sklearn.metrics import mean_absolute_error, mean_squared_error\n",
    "from sklearn.preprocessing import MinMaxScaler\n",
    "\n",
    "# 读取数据并抽样\n",
    "data = pd.read_excel(\"D:\\桌面\\Train.xlsx\").sample(frac=0.1, random_state=0)\n",
    "\n",
    "# 数据归一化\n",
    "scaler = MinMaxScaler()\n",
    "X = data.iloc[:, :-1]\n",
    "X_scaled = scaler.fit_transform(X)\n",
    "y = data.iloc[:, -1]\n",
    "\n",
    "# PCA特征提取\n",
    "pca = PCA(n_components=10)\n",
    "X_new = pca.fit_transform(X_scaled)\n",
    "\n",
    "# 训练模型并进行十折交叉验证\n",
    "n_splits = 10\n",
    "kf = KFold(n_splits=n_splits, shuffle=True, random_state=0)\n",
    "mae_list = []\n",
    "rmse_list = []\n",
    "mape_list = []\n",
    "for train_index, test_index in kf.split(X_new):\n",
    "    X_train, X_test = X_new[train_index], X_new[test_index]\n",
    "    y_train, y_test = y.iloc[train_index], y.iloc[test_index]\n",
    "    rf_model = RandomForestRegressor()\n",
    "    rf_model.fit(X_train, y_train)\n",
    "    y_pred = rf_model.predict(X_test)\n",
    "    mae_list.append(mean_absolute_error(y_test, y_pred))\n",
    "    rmse_list.append(np.sqrt(mean_squared_error(y_test, y_pred)))\n",
    "    mape_list.append(np.mean(np.abs((y_test - y_pred) / y_test)) * 100)\n",
    "\n",
    "# 显示结果\n",
    "print('MAE: %.4f' % np.mean(mae_list))\n",
    "print('RMSE: %.4f' % np.mean(rmse_list))\n",
    "print('MAPE: %.4f%%' % np.mean(mape_list))\n",
    "#0.1样本，都采用十折交叉验证。PCA，RF"
   ]
  },
  {
   "cell_type": "code",
   "execution_count": 28,
   "id": "408cea2f-bb41-44d0-9d27-05003bfb49fe",
   "metadata": {},
   "outputs": [
    {
     "name": "stdout",
     "output_type": "stream",
     "text": [
      "MAE: 2754.3730\n",
      "RMSE: 6361.2667\n",
      "MAPE: 159.8741%\n"
     ]
    }
   ],
   "source": [
    "from sklearn.feature_selection import SelectKBest, chi2\n",
    "\n",
    "# 特征选择，卡方检验\n",
    "selector = SelectKBest(chi2, k=10)\n",
    "X_new = selector.fit_transform(X_scaled, y)\n",
    "\n",
    "# 训练模型并进行十折交叉验证\n",
    "n_splits = 10\n",
    "kf = KFold(n_splits=n_splits, shuffle=True, random_state=0)\n",
    "mae_list = []\n",
    "rmse_list = []\n",
    "mape_list = []\n",
    "for train_index, test_index in kf.split(X_new):\n",
    "    X_train, X_test = X_new[train_index], X_new[test_index]\n",
    "    y_train, y_test = y.iloc[train_index], y.iloc[test_index]\n",
    "    rf_model = RandomForestRegressor()\n",
    "    rf_model.fit(X_train, y_train)\n",
    "    y_pred = rf_model.predict(X_test)\n",
    "    mae_list.append(mean_absolute_error(y_test, y_pred))\n",
    "    rmse_list.append(np.sqrt(mean_squared_error(y_test, y_pred)))\n",
    "    mape_list.append(np.mean(np.abs((y_test - y_pred) / y_test)) * 100)\n",
    "\n",
    "# 显示结果\n",
    "print('MAE: %.4f' % np.mean(mae_list))\n",
    "print('RMSE: %.4f' % np.mean(rmse_list))\n",
    "print('MAPE: %.4f%%' % np.mean(mape_list))\n",
    "#0.1样本，使用十折交叉验证（RF）进行了特征选择：卡方检验"
   ]
  },
  {
   "cell_type": "code",
   "execution_count": 29,
   "id": "26c950a7-ab14-487a-be00-8a87ed562585",
   "metadata": {},
   "outputs": [
    {
     "name": "stdout",
     "output_type": "stream",
     "text": [
      "MAE: 2154.9071\n",
      "RMSE: 6537.1589\n",
      "MAPE: 63.5132%\n"
     ]
    }
   ],
   "source": [
    "from sklearn.svm import SVR\n",
    "# 特征选择\n",
    "selector = SelectKBest(chi2, k=10)\n",
    "X_new = selector.fit_transform(X_scaled, y)\n",
    "\n",
    "# 训练模型并进行十折交叉验证\n",
    "n_splits = 10\n",
    "kf = KFold(n_splits=n_splits, shuffle=True, random_state=0)\n",
    "mae_list = []\n",
    "rmse_list = []\n",
    "mape_list = []\n",
    "for train_index, test_index in kf.split(X_new):\n",
    "    X_train, X_test = X_new[train_index], X_new[test_index]\n",
    "    y_train, y_test = y.iloc[train_index], y.iloc[test_index]\n",
    "    svr_model = SVR()\n",
    "    svr_model.fit(X_train, y_train)\n",
    "    y_pred = svr_model.predict(X_test)\n",
    "    mae_list.append(mean_absolute_error(y_test, y_pred))\n",
    "    rmse_list.append(np.sqrt(mean_squared_error(y_test, y_pred)))\n",
    "    mape_list.append(np.mean(np.abs((y_test - y_pred) / y_test)) * 100)\n",
    "\n",
    "# 显示结果\n",
    "print('MAE: %.4f' % np.mean(mae_list))\n",
    "print('RMSE: %.4f' % np.mean(rmse_list))\n",
    "print('MAPE: %.4f%%' % np.mean(mape_list))"
   ]
  },
  {
   "cell_type": "code",
   "execution_count": 41,
   "id": "76edb1c0-07b9-4cc1-acba-ce68f96032ec",
   "metadata": {},
   "outputs": [
    {
     "name": "stdout",
     "output_type": "stream",
     "text": [
      "MAE: 2184.9089\n",
      "RMSE: 6611.5792\n",
      "MAPE: 54.2943%\n"
     ]
    }
   ],
   "source": [
    "import pandas as pd\n",
    "import numpy as np\n",
    "from sklearn.decomposition import PCA\n",
    "from sklearn.linear_model import LogisticRegression\n",
    "from sklearn.model_selection import KFold\n",
    "from sklearn.metrics import mean_absolute_error, mean_squared_error\n",
    "\n",
    "# 读取数据并抽样\n",
    "data = pd.read_excel(\"D:\\桌面\\Train.xlsx\").sample(frac=0.1, random_state=0)\n",
    "\n",
    "# 数据归一化\n",
    "from sklearn.preprocessing import MinMaxScaler\n",
    "scaler = MinMaxScaler()\n",
    "X = data.iloc[:, :-1]\n",
    "X_scaled = scaler.fit_transform(X)\n",
    "y = data.iloc[:, -1]\n",
    "\n",
    "# PCA特征提取\n",
    "pca = PCA(n_components=10)\n",
    "X_new = pca.fit_transform(X_scaled)\n",
    "\n",
    "# 训练模型并进行十折交叉验证\n",
    "n_splits = 10\n",
    "kf = KFold(n_splits=n_splits, shuffle=True, random_state=0)\n",
    "accuracy_list = []\n",
    "precision_list = []\n",
    "recall_list = []\n",
    "for train_index, test_index in kf.split(X_new):\n",
    "    X_train, X_test = X_new[train_index], X_new[test_index]\n",
    "    y_train, y_test = y.iloc[train_index], y.iloc[test_index]\n",
    "    lr_model = LogisticRegression()\n",
    "    lr_model.fit(X_train, y_train)\n",
    "    y_pred = lr_model.predict(X_test)\n",
    "    mae_list.append(mean_absolute_error(y_test, y_pred))\n",
    "    rmse_list.append(np.sqrt(mean_squared_error(y_test, y_pred)))\n",
    "    mape_list.append(np.mean(np.abs((y_test - y_pred) / y_test)) * 100)\n",
    "\n",
    "# 显示结果\n",
    "print('MAE: %.4f' % np.mean(mae_list))\n",
    "print('RMSE: %.4f' % np.mean(rmse_list))\n",
    "print('MAPE: %.4f%%' % np.mean(mape_list))"
   ]
  },
  {
   "cell_type": "code",
   "execution_count": 48,
   "id": "8ad2e6ed-0ad9-426c-90c4-cee5d44189f8",
   "metadata": {},
   "outputs": [
    {
     "data": {
      "text/plain": [
       "0.4881868402254043"
      ]
     },
     "execution_count": 48,
     "metadata": {},
     "output_type": "execute_result"
    }
   ],
   "source": [
    "np.mean(np.abs((y_test-y_pred)/y_test))"
   ]
  },
  {
   "cell_type": "code",
   "execution_count": null,
   "id": "27fc6e87-c04b-4e29-be39-40ff2d1a03a9",
   "metadata": {},
   "outputs": [],
   "source": []
  },
  {
   "cell_type": "code",
   "execution_count": 59,
   "id": "60a29f2a-5759-4c2d-abbd-544c3805a551",
   "metadata": {},
   "outputs": [
    {
     "data": {
      "image/png": "[encoded data removed]",
      "text/plain": [
       "<Figure size 432x288 with 1 Axes>"
      ]
     },
     "metadata": {
      "needs_background": "light"
     },
     "output_type": "display_data"
    }
   ],
   "source": [
    "import matplotlib.pyplot as plt\n",
    "\n",
    "plt.plot(range(350), y_test-y_pred)\n",
    "plt.show()"
   ]
  },
  {
   "cell_type": "code",
   "execution_count": 62,
   "id": "fe076521-c536-474d-b143-7037b3692539",
   "metadata": {},
   "outputs": [
    {
     "data": {
      "text/plain": [
       "41"
      ]
     },
     "execution_count": 62,
     "metadata": {},
     "output_type": "execute_result"
    }
   ],
   "source": [
    "y = abs(y_test - y_pred)\n",
    "len(y[y >3000])"
   ]
  },
  {
   "cell_type": "code",
   "execution_count": null,
   "id": "0671fbf3-d237-4404-9d02-4e1bf50cc95f",
   "metadata": {},
   "outputs": [],
   "source": []
  }
 ],
 "metadata": {
  "kernelspec": {
   "display_name": "Python 3 (ipykernel)",
   "language": "python",
   "name": "python3"
  },
  "language_info": {
   "codemirror_mode": {
    "name": "ipython",
    "version": 3
   },
   "file_extension": ".py",
   "mimetype": "text/x-python",
   "name": "python",
   "nbconvert_exporter": "python",
   "pygments_lexer": "ipython3",
   "version": "3.9.12"
  }
 },
 "nbformat": 4,
 "nbformat_minor": 5
}
