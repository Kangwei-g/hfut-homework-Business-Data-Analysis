{
 "cells": [
  {
   "cell_type": "code",
   "execution_count": 2,
   "id": "1cd051f1-c74b-47bf-a0c6-75b73d413d9f",
   "metadata": {},
   "outputs": [
    {
     "name": "stderr",
     "output_type": "stream",
     "text": [
      "C:\\ProgramData\\Anaconda3\\lib\\site-packages\\scipy\\__init__.py:146: UserWarning: A NumPy version >=1.16.5 and <1.23.0 is required for this version of SciPy (detected version 1.23.5\n",
      "  warnings.warn(f\"A NumPy version >={np_minversion} and <{np_maxversion}\"\n"
     ]
    }
   ],
   "source": [
    "import numpy as np\n",
    "import pandas as pd\n",
    "import matplotlib.pyplot as plt\n",
    "from sklearn.model_selection import train_test_split\n",
    "from sklearn.decomposition import PCA\n",
    "from sklearn.linear_model import LogisticRegression\n",
    "from sklearn.model_selection import KFold\n",
    "from sklearn.metrics import mean_absolute_error, mean_squared_error\n",
    "from sklearn.metrics import mean_absolute_error, mean_absolute_percentage_error\n",
    "from sklearn.feature_selection import SelectKBest, chi2\n",
    "from sklearn.ensemble import RandomForestRegressor\n",
    "from sklearn.preprocessing import MinMaxScaler"
   ]
  },
  {
   "cell_type": "code",
   "execution_count": 13,
   "id": "2d0b6713-194c-4c5e-ad66-b2eeb35f9549",
   "metadata": {},
   "outputs": [],
   "source": [
    "#读取数据，处理数据\n",
    "data = pd.read_csv(\"D:\\桌面\\Train.csv\")"
   ]
  },
  {
   "cell_type": "code",
   "execution_count": 14,
   "id": "ab3ea93e-cdd5-49e8-8831-174b3f464d43",
   "metadata": {},
   "outputs": [],
   "source": [
    "#把shares大于10000的都删除.占比<5%\n",
    "rows_to_drop = data[data[' shares'] > 10000].index\n",
    "df = data.drop(rows_to_drop)"
   ]
  },
  {
   "cell_type": "code",
   "execution_count": 15,
   "id": "e9aea6d5-f769-4caf-8a9b-df2666e3ec14",
   "metadata": {},
   "outputs": [],
   "source": [
    "#手动降维\n",
    "df = df.drop([\" n_non_stop_words\",\" weekday_is_monday\",\" weekday_is_tuesday\",\" weekday_is_wednesday\",\" weekday_is_thursday\",\" weekday_is_friday\"\n",
    "                ,\" weekday_is_saturday\",\" weekday_is_sunday\"], axis=1)"
   ]
  },
  {
   "cell_type": "code",
   "execution_count": 16,
   "id": "8d3373d4-1b42-4b12-985c-59219fdf7f49",
   "metadata": {},
   "outputs": [],
   "source": [
    "# 将训练数据和测试数据分开\n",
    "X = df.iloc[:, :-1]\n",
    "scaler = MinMaxScaler()\n",
    "X_scaled = scaler.fit_transform(X)\n",
    "y = df.iloc[:, -1]\n",
    "# 卡方检验特征选择和PCA特征提取\n",
    "skb = SelectKBest(chi2, k=15)\n",
    "X_new = skb.fit_transform(X_scaled, y)\n",
    "pca = PCA(n_components=5)\n",
    "X_pca = pca.fit_transform(X_new)\n",
    "X_pca = scaler.fit_transform(X_pca)"
   ]
  },
  {
   "cell_type": "code",
   "execution_count": 17,
   "id": "2f7ae8c7-2a9f-462f-b3e0-2423e7e139a4",
   "metadata": {},
   "outputs": [
    {
     "name": "stdout",
     "output_type": "stream",
     "text": [
      "0.29794313369630976\n",
      "48.38903288203698\n",
      "0.2813067150635209\n",
      "48.38475523555398\n",
      "0.2980332829046899\n",
      "47.52066728680071\n",
      "0.29712556732223905\n",
      "47.572793436145744\n",
      "0.3059001512859304\n",
      "48.37094085427762\n",
      "0.302874432677761\n",
      "53.03343671302601\n",
      "0.29652042360060515\n",
      "52.236844951051225\n",
      "0.29712556732223905\n",
      "52.695169732040654\n",
      "0.30620272314674735\n",
      "52.118894050138266\n",
      "0.2826021180030257\n",
      "51.502883886652604\n",
      "MAE: 1178.3752\n",
      "RMSE: 2047.3408\n",
      "MAPE: 51.5029%\n"
     ]
    }
   ],
   "source": [
    "# 训练模型并进行十折交叉验证\n",
    "n_splits = 10\n",
    "kf = KFold(n_splits=n_splits, shuffle=True, random_state=1)\n",
    "mae_list = []\n",
    "rmse_list = []\n",
    "mape_list = []\n",
    "for train_index, test_index in kf.split(X_pca):\n",
    "    X_train, X_test = X_pca[train_index], X_pca[test_index]\n",
    "    y_train, y_test = y.iloc[train_index], y.iloc[test_index]\n",
    "    #把y值分为两类来进行预测\n",
    "    y_binary = np.where(y_train > 1500,1,0)\n",
    "    lr_model = LogisticRegression(max_iter=200)\n",
    "    lr_model.fit(X_train, y_binary)\n",
    "    #把预测值映射回去\n",
    "    y_pred = lr_model.predict(X_test)\n",
    "    print(y_pred.mean())\n",
    "    y_pred= np.where(y_pred > 0, 100*12, 100*9)\n",
    "    mae_list.append(mean_absolute_error(y_test, y_pred))\n",
    "    rmse_list.append(np.sqrt(mean_squared_error(y_test, y_pred)))\n",
    "    mape_list.append(np.mean(np.abs((y_test - y_pred) / y_test)) * 100)\n",
    "    print(np.mean(mape_list))\n",
    "\n",
    "# 显示结果\n",
    "print('MAE: %.4f' % np.mean(mae_list))\n",
    "print('RMSE: %.4f' % np.mean(rmse_list))\n",
    "print('MAPE: %.4f%%' % np.mean(mape_list))"
   ]
  },
  {
   "cell_type": "code",
   "execution_count": 12,
   "id": "889bcbc0-d4d0-4f8a-9df9-4d73972a7e8c",
   "metadata": {},
   "outputs": [
    {
     "data": {
      "text/plain": [
       "[51.32856182496913]"
      ]
     },
     "execution_count": 12,
     "metadata": {},
     "output_type": "execute_result"
    }
   ],
   "source": [
    "a=[]\n",
    "a.append(np.mean(mape_list))\n",
    "a"
   ]
  },
  {
   "cell_type": "code",
   "execution_count": null,
   "id": "1e0a4a4f-4dd8-480f-99b2-98c6e8e97986",
   "metadata": {},
   "outputs": [],
   "source": []
  },
  {
   "cell_type": "code",
   "execution_count": null,
   "id": "adc13154-53d6-49ed-8a6e-2e0944d6d9a2",
   "metadata": {},
   "outputs": [],
   "source": []
  },
  {
   "cell_type": "code",
   "execution_count": null,
   "id": "975a866f-3ad4-4b6a-9919-38e33aee1fb0",
   "metadata": {},
   "outputs": [],
   "source": []
  },
  {
   "cell_type": "code",
   "execution_count": null,
   "id": "e6f7956f-c1a6-42f7-be4d-b742e7ce27de",
   "metadata": {},
   "outputs": [],
   "source": []
  },
  {
   "cell_type": "code",
   "execution_count": null,
   "id": "5904afe9-7d40-466b-9a53-1f0009021d22",
   "metadata": {},
   "outputs": [],
   "source": []
  },
  {
   "cell_type": "code",
   "execution_count": null,
   "id": "eec13b2c-4d55-47df-804b-5a80af7fc261",
   "metadata": {},
   "outputs": [],
   "source": []
  },
  {
   "cell_type": "code",
   "execution_count": null,
   "id": "fbf96e21-2f36-497b-b4f1-c5632645433f",
   "metadata": {},
   "outputs": [],
   "source": []
  }
 ],
 "metadata": {
  "kernelspec": {
   "display_name": "Python 3 (ipykernel)",
   "language": "python",
   "name": "python3"
  },
  "language_info": {
   "codemirror_mode": {
    "name": "ipython",
    "version": 3
   },
   "file_extension": ".py",
   "mimetype": "text/x-python",
   "name": "python",
   "nbconvert_exporter": "python",
   "pygments_lexer": "ipython3",
   "version": "3.9.12"
  }
 },
 "nbformat": 4,
 "nbformat_minor": 5
}
