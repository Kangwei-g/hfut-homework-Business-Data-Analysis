{
 "cells": [
  {
   "cell_type": "code",
   "execution_count": 2,
   "id": "46f87303-5224-49e7-8b62-225200c48f61",
   "metadata": {},
   "outputs": [
    {
     "name": "stderr",
     "output_type": "stream",
     "text": [
      "C:\\ProgramData\\Anaconda3\\lib\\site-packages\\scipy\\__init__.py:146: UserWarning: A NumPy version >=1.16.5 and <1.23.0 is required for this version of SciPy (detected version 1.23.5\n",
      "  warnings.warn(f\"A NumPy version >={np_minversion} and <{np_maxversion}\"\n"
     ]
    }
   ],
   "source": [
    "import numpy as np\n",
    "import pandas as pd\n",
    "import matplotlib.pyplot as plt\n",
    "from sklearn.model_selection import train_test_split\n",
    "from sklearn.decomposition import PCA\n",
    "from sklearn.linear_model import LogisticRegression\n",
    "from sklearn.model_selection import KFold\n",
    "from sklearn.metrics import mean_absolute_error, mean_squared_error\n",
    "from sklearn.metrics import mean_absolute_error, mean_absolute_percentage_error\n",
    "from sklearn.feature_selection import SelectKBest, chi2\n",
    "from sklearn.ensemble import RandomForestRegressor\n",
    "from sklearn.preprocessing import MinMaxScaler"
   ]
  },
  {
   "cell_type": "code",
   "execution_count": 19,
   "id": "0ecd308f-2f95-46ec-8988-50b1b6794597",
   "metadata": {},
   "outputs": [],
   "source": [
    "#读取数据，处理数据\n",
    "data = pd.read_csv(\"D:\\桌面\\Train.csv\")\n",
    "#把shares大于10000的都删除.占比<5%\n",
    "rows_to_drop = data[data[' shares'] > 10000].index\n",
    "df = data.drop(rows_to_drop)\n",
    "#手动降维\n",
    "df = df.drop([\" n_non_stop_words\",\" weekday_is_monday\",\" weekday_is_tuesday\",\" weekday_is_wednesday\",\" weekday_is_thursday\",\" weekday_is_friday\"\n",
    "                ,\" weekday_is_saturday\",\" weekday_is_sunday\"], axis=1)"
   ]
  },
  {
   "cell_type": "code",
   "execution_count": 20,
   "id": "b0191687-f412-41d7-9f30-cd18770d49ac",
   "metadata": {},
   "outputs": [],
   "source": [
    "# 将训练数据和测试数据分开\n",
    "X = df.iloc[:, :-1]\n",
    "scaler = MinMaxScaler()\n",
    "X_scaled = scaler.fit_transform(X)\n",
    "y = df.iloc[:, -1]"
   ]
  },
  {
   "cell_type": "code",
   "execution_count": 21,
   "id": "f0c7ce7d-afc4-44a8-aa55-2785c7ced7fa",
   "metadata": {},
   "outputs": [
    {
     "data": {
      "text/plain": [
       "50.848489344578425"
      ]
     },
     "execution_count": 21,
     "metadata": {},
     "output_type": "execute_result"
    }
   ],
   "source": [
    "pca = PCA(n_components=15)\n",
    "X_pca = pca.fit_transform(X_scaled)\n",
    "X_pca = scaler.fit_transform(X_pca)\n",
    "# 训练模型并进行十折交叉验证\n",
    "n_splits = 10\n",
    "kf = KFold(n_splits=n_splits, shuffle=True, random_state=5)\n",
    "mae_list = []\n",
    "rmse_list = []\n",
    "mape_list = []\n",
    "for train_index, test_index in kf.split(X_pca):\n",
    "    X_train, X_test = X_pca[train_index], X_pca[test_index]\n",
    "    y_train, y_test = y.iloc[train_index], y.iloc[test_index]\n",
    "    #把y值分为两类来进行预测\n",
    "    y_binary = np.where(y_train > 1500,1,0)\n",
    "    lr_model = LogisticRegression(max_iter=200)\n",
    "    lr_model.fit(X_train, y_binary)\n",
    "    #把预测值映射回去\n",
    "    y_pred = lr_model.predict(X_test)\n",
    "    y_pred= np.where(y_pred > 0, 100*12, 100*8)\n",
    "    mape_list.append(np.mean(np.abs((y_test - y_pred) / y_test)) * 100)\n",
    "np.mean(mape_list)"
   ]
  },
  {
   "cell_type": "code",
   "execution_count": 33,
   "id": "e3385baf-3e22-48c2-907f-651394c1c162",
   "metadata": {},
   "outputs": [
    {
     "data": {
      "text/plain": [
       "2295"
      ]
     },
     "execution_count": 33,
     "metadata": {},
     "output_type": "execute_result"
    }
   ],
   "source": [
    "sum(y_pred<900)"
   ]
  },
  {
   "cell_type": "markdown",
   "id": "7331b70f-9d93-4e4c-aab5-9342c0ae8b27",
   "metadata": {},
   "source": [
    "## 预测数据"
   ]
  },
  {
   "cell_type": "code",
   "execution_count": 49,
   "id": "f1375f56-3d92-4997-8205-bb4d3b9531a0",
   "metadata": {},
   "outputs": [],
   "source": [
    "test = pd.read_csv('D:\\桌面\\Test.csv')"
   ]
  },
  {
   "cell_type": "code",
   "execution_count": 50,
   "id": "fb793520-98cb-4240-a955-e9ae3231ff64",
   "metadata": {},
   "outputs": [],
   "source": [
    "test = test.drop([\" n_non_stop_words\",\" weekday_is_monday\",\" weekday_is_tuesday\",\" weekday_is_wednesday\",\" weekday_is_thursday\",\" weekday_is_friday\"\n",
    "                ,\" weekday_is_saturday\",\" weekday_is_sunday\"], axis=1)"
   ]
  },
  {
   "cell_type": "code",
   "execution_count": 51,
   "id": "4bf7af93-9411-4610-b67b-1ff89f573314",
   "metadata": {},
   "outputs": [],
   "source": [
    "# 将训练数据和测试数据分开\n",
    "Xt = test.iloc[:, :-1]\n",
    "scaler = MinMaxScaler()\n",
    "Xt = scaler.fit_transform(Xt)"
   ]
  },
  {
   "cell_type": "code",
   "execution_count": 52,
   "id": "9312800e-9019-400e-9184-c464931c363e",
   "metadata": {},
   "outputs": [],
   "source": [
    "X_pca = pca.transform(Xt)\n",
    "X_pca = scaler.fit_transform(X_pca)"
   ]
  },
  {
   "cell_type": "code",
   "execution_count": 53,
   "id": "1c0ee400-8bd7-4c22-84b3-5d19e5467a89",
   "metadata": {},
   "outputs": [],
   "source": [
    "y = lr_model.predict(X_pca)\n",
    "y= np.where(y > 0, 100*12, 100*8)"
   ]
  },
  {
   "cell_type": "code",
   "execution_count": 54,
   "id": "9bf82b7e-02be-407c-adb0-fbdd96107c29",
   "metadata": {},
   "outputs": [
    {
     "data": {
      "text/plain": [
       "1780"
      ]
     },
     "execution_count": 54,
     "metadata": {},
     "output_type": "execute_result"
    }
   ],
   "source": [
    "sum(y<900)"
   ]
  },
  {
   "cell_type": "code",
   "execution_count": 55,
   "id": "008dca26-541e-458c-a291-f3358cf36d1b",
   "metadata": {},
   "outputs": [],
   "source": [
    "ans = pd.read_csv('D:\\桌面\\Test.csv')"
   ]
  },
  {
   "cell_type": "code",
   "execution_count": 56,
   "id": "226e5652-34ca-477d-8c60-fb040231907b",
   "metadata": {},
   "outputs": [],
   "source": [
    "ans[' shares']=y"
   ]
  },
  {
   "cell_type": "code",
   "execution_count": 58,
   "id": "a28c284c-460d-4e0f-9990-181a4fefc310",
   "metadata": {},
   "outputs": [],
   "source": [
    "ans.to_csv('D:\\桌面\\竞赛1第三次.csv')"
   ]
  },
  {
   "cell_type": "code",
   "execution_count": null,
   "id": "ae11c0d2-eb97-483d-9b42-dd2c56a41321",
   "metadata": {},
   "outputs": [],
   "source": []
  }
 ],
 "metadata": {
  "kernelspec": {
   "display_name": "Python 3 (ipykernel)",
   "language": "python",
   "name": "python3"
  },
  "language_info": {
   "codemirror_mode": {
    "name": "ipython",
    "version": 3
   },
   "file_extension": ".py",
   "mimetype": "text/x-python",
   "name": "python",
   "nbconvert_exporter": "python",
   "pygments_lexer": "ipython3",
   "version": "3.9.12"
  }
 },
 "nbformat": 4,
 "nbformat_minor": 5
}
